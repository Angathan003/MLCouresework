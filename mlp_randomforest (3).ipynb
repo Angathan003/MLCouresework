{
  "nbformat": 4,
  "nbformat_minor": 0,
  "metadata": {
    "colab": {
      "provenance": [],
      "gpuType": "T4"
    },
    "kernelspec": {
      "name": "python3",
      "display_name": "Python 3"
    },
    "language_info": {
      "name": "python"
    },
    "accelerator": "GPU"
  },
  "cells": [
    {
      "cell_type": "code",
      "execution_count": 14,
      "metadata": {
        "id": "ynsmp-8ArIph"
      },
      "outputs": [],
      "source": [
        "!wget -q https://archive.ics.uci.edu/ml/machine-learning-databases/00222/bank.zip\n",
        "!unzip -o -q bank.zip\n"
      ]
    },
    {
      "cell_type": "code",
      "source": [
        "import pandas as pd\n",
        "import numpy as np\n",
        "import matplotlib.pyplot as plt\n",
        "import seaborn as sns\n",
        "\n",
        "from sklearn.model_selection import train_test_split\n",
        "from sklearn.preprocessing import LabelEncoder, StandardScaler\n",
        "from sklearn.ensemble import RandomForestClassifier\n",
        "from sklearn.neural_network import MLPClassifier\n",
        "from sklearn.metrics import confusion_matrix, classification_report, accuracy_score\n"
      ],
      "metadata": {
        "id": "tZd6yE2PrMe_"
      },
      "execution_count": 15,
      "outputs": []
    },
    {
      "cell_type": "code",
      "source": [
        "# The extracted CSV is usually named \"bank-ful.csv\"\n",
        "df = pd.read_csv(\"bank-full.csv\", sep=\";\")\n"
      ],
      "metadata": {
        "id": "Uq8fUFRbrO5L"
      },
      "execution_count": 16,
      "outputs": []
    },
    {
      "cell_type": "code",
      "source": [
        "#  EXPLORE THE DATA (Optional Quick Glance)\n",
        "print(\"Data shape:\", df.shape)\n",
        "print(\"Columns:\", df.columns.tolist())\n",
        "print(\"\\nSample rows:\")\n",
        "print(df.head(3))\n",
        "print(\"\\nData Info:\")\n",
        "df.info()\n"
      ],
      "metadata": {
        "colab": {
          "base_uri": "https://localhost:8080/"
        },
        "id": "DiA6lgt7rRpV",
        "outputId": "37a7556f-4665-4c7e-e4fd-136cf00c7be7"
      },
      "execution_count": 17,
      "outputs": [
        {
          "output_type": "stream",
          "name": "stdout",
          "text": [
            "Data shape: (45211, 17)\n",
            "Columns: ['age', 'job', 'marital', 'education', 'default', 'balance', 'housing', 'loan', 'contact', 'day', 'month', 'duration', 'campaign', 'pdays', 'previous', 'poutcome', 'y']\n",
            "\n",
            "Sample rows:\n",
            "   age           job  marital  education default  balance housing loan  \\\n",
            "0   58    management  married   tertiary      no     2143     yes   no   \n",
            "1   44    technician   single  secondary      no       29     yes   no   \n",
            "2   33  entrepreneur  married  secondary      no        2     yes  yes   \n",
            "\n",
            "   contact  day month  duration  campaign  pdays  previous poutcome   y  \n",
            "0  unknown    5   may       261         1     -1         0  unknown  no  \n",
            "1  unknown    5   may       151         1     -1         0  unknown  no  \n",
            "2  unknown    5   may        76         1     -1         0  unknown  no  \n",
            "\n",
            "Data Info:\n",
            "<class 'pandas.core.frame.DataFrame'>\n",
            "RangeIndex: 45211 entries, 0 to 45210\n",
            "Data columns (total 17 columns):\n",
            " #   Column     Non-Null Count  Dtype \n",
            "---  ------     --------------  ----- \n",
            " 0   age        45211 non-null  int64 \n",
            " 1   job        45211 non-null  object\n",
            " 2   marital    45211 non-null  object\n",
            " 3   education  45211 non-null  object\n",
            " 4   default    45211 non-null  object\n",
            " 5   balance    45211 non-null  int64 \n",
            " 6   housing    45211 non-null  object\n",
            " 7   loan       45211 non-null  object\n",
            " 8   contact    45211 non-null  object\n",
            " 9   day        45211 non-null  int64 \n",
            " 10  month      45211 non-null  object\n",
            " 11  duration   45211 non-null  int64 \n",
            " 12  campaign   45211 non-null  int64 \n",
            " 13  pdays      45211 non-null  int64 \n",
            " 14  previous   45211 non-null  int64 \n",
            " 15  poutcome   45211 non-null  object\n",
            " 16  y          45211 non-null  object\n",
            "dtypes: int64(7), object(10)\n",
            "memory usage: 5.9+ MB\n"
          ]
        }
      ]
    },
    {
      "cell_type": "code",
      "source": [
        "# Identify categorical vs numerical columns\n",
        "categorical_cols = [col for col in df.columns if df[col].dtype == 'object' and col != 'y']\n",
        "numerical_cols = [col for col in df.columns if df[col].dtype in ['int64', 'float64']]\n"
      ],
      "metadata": {
        "id": "LGvrfkyyrTbT"
      },
      "execution_count": 18,
      "outputs": []
    },
    {
      "cell_type": "code",
      "source": [
        "\n",
        "print(\"\\nCategorical columns:\", categorical_cols)\n",
        "print(\"Numerical columns:\", numerical_cols)\n",
        "\n",
        "# Convert target column ('y') into binary (0/1)\n",
        "#      'yes' -> 1, 'no' -> 0\n",
        "df['y'] = df['y'].map({'yes': 1, 'no': 0})\n",
        "\n",
        "#Encode categorical features using get_dummies (one-hot encoding)\n",
        "df_encoded = pd.get_dummies(df, columns=categorical_cols, drop_first=True)\n",
        "\n",
        "#Separate features (X) and target (y)\n",
        "X = df_encoded.drop('y', axis=1)\n",
        "y = df_encoded['y']\n",
        "\n",
        "# (Optional) Scale numerical features\n",
        "#     Usually helps for Neural Networks\n",
        "scaler = StandardScaler()\n",
        "X_scaled = scaler.fit_transform(X)\n"
      ],
      "metadata": {
        "colab": {
          "base_uri": "https://localhost:8080/"
        },
        "id": "plZOyp_QrVUk",
        "outputId": "7229ea74-116f-438e-d8ce-9c59c9f6dc80"
      },
      "execution_count": 19,
      "outputs": [
        {
          "output_type": "stream",
          "name": "stdout",
          "text": [
            "\n",
            "Categorical columns: ['job', 'marital', 'education', 'default', 'housing', 'loan', 'contact', 'month', 'poutcome']\n",
            "Numerical columns: ['age', 'balance', 'day', 'duration', 'campaign', 'pdays', 'previous']\n"
          ]
        }
      ]
    },
    {
      "cell_type": "code",
      "source": [
        "X_train, X_test, y_train, y_test = train_test_split(\n",
        "    X_scaled, y, test_size=0.2, random_state=42, stratify=y\n",
        ")\n",
        "\n",
        "print(\"\\nTrain set shape:\", X_train.shape)\n",
        "print(\"Test set shape:\", X_test.shape)"
      ],
      "metadata": {
        "colab": {
          "base_uri": "https://localhost:8080/"
        },
        "id": "pJqd2qOUra47",
        "outputId": "047a03a8-ceb3-4db7-e5ba-07b73179e65c"
      },
      "execution_count": 23,
      "outputs": [
        {
          "output_type": "stream",
          "name": "stdout",
          "text": [
            "\n",
            "Train set shape: (36168, 42)\n",
            "Test set shape: (9043, 42)\n"
          ]
        }
      ]
    },
    {
      "cell_type": "code",
      "source": [
        "\n",
        "# MODEL 1 - RANDOM FOREST CLASSIFIER\n",
        "rf_model = RandomForestClassifier(\n",
        "    n_estimators=100,\n",
        "    random_state=42\n",
        ")\n",
        "rf_model.fit(X_train, y_train)\n",
        "rf_train_predictions = rf_model.predict(X_train)\n",
        "rf_predictions = rf_model.predict(X_test)\n",
        "\n",
        "# Evaluate Random Forest\n",
        "rf_accuracy = accuracy_score(y_test, rf_predictions)\n",
        "print(\"\\n=========================\")\n",
        "print(\"RANDOM FOREST RESULTS\")\n",
        "print(\"=========================\")\n",
        "print(\"Test accuracy:\", rf_accuracy)\n",
        "print(\"Train accuracy\", accuracy_score(y_train, rf_train_predictions))\n",
        "print(\"Confusion Matrix:\\n\", confusion_matrix(y_test, rf_predictions))\n",
        "print(\"Classification Report:\\n\", classification_report(y_test, rf_predictions))\n"
      ],
      "metadata": {
        "colab": {
          "base_uri": "https://localhost:8080/"
        },
        "id": "e2an3cL9rcwd",
        "outputId": "ba7ff557-e499-44ca-8609-d0f232acf522"
      },
      "execution_count": 24,
      "outputs": [
        {
          "output_type": "stream",
          "name": "stdout",
          "text": [
            "\n",
            "=========================\n",
            "RANDOM FOREST RESULTS\n",
            "=========================\n",
            "Test accuracy: 0.9051199823067566\n",
            "Train accuracy 1.0\n",
            "Confusion Matrix:\n",
            " [[7774  211]\n",
            " [ 647  411]]\n",
            "Classification Report:\n",
            "               precision    recall  f1-score   support\n",
            "\n",
            "           0       0.92      0.97      0.95      7985\n",
            "           1       0.66      0.39      0.49      1058\n",
            "\n",
            "    accuracy                           0.91      9043\n",
            "   macro avg       0.79      0.68      0.72      9043\n",
            "weighted avg       0.89      0.91      0.89      9043\n",
            "\n"
          ]
        }
      ]
    },
    {
      "cell_type": "code",
      "source": [
        "\n",
        "# MODEL 2 - NEURAL NETWORK (MLPClassifier)\n",
        "\n",
        "# A simple feed-forward MLP with one hidden layer\n",
        "mlp_model = MLPClassifier(\n",
        "    hidden_layer_sizes=(64,),\n",
        "    max_iter=300,\n",
        "    activation='relu',\n",
        "    solver='adam',\n",
        "    random_state=42\n",
        ")\n",
        "mlp_model.fit(X_train, y_train)\n",
        "\n",
        "mlp_predictions = mlp_model.predict(X_test)\n",
        "\n",
        "# Evaluate MLP\n",
        "mlp_accuracy = accuracy_score(y_test, mlp_predictions)\n",
        "print(\"\\n=========================\")\n",
        "print(\"NEURAL NETWORK (MLP) RESULTS\")\n",
        "print(\"=========================\")\n",
        "print(\"Accuracy:\", mlp_accuracy)\n",
        "print(\"Confusion Matrix:\\n\", confusion_matrix(y_test, mlp_predictions))\n",
        "print(\"Classification Report:\\n\", classification_report(y_test, mlp_predictions))\n"
      ],
      "metadata": {
        "colab": {
          "base_uri": "https://localhost:8080/"
        },
        "id": "QEVX6Lqlrean",
        "outputId": "a3b05e91-0950-40f3-ef47-cbe6ee29dcbd"
      },
      "execution_count": 25,
      "outputs": [
        {
          "output_type": "stream",
          "name": "stdout",
          "text": [
            "\n",
            "=========================\n",
            "NEURAL NETWORK (MLP) RESULTS\n",
            "=========================\n",
            "Accuracy: 0.8991485126617274\n",
            "Confusion Matrix:\n",
            " [[7636  349]\n",
            " [ 563  495]]\n",
            "Classification Report:\n",
            "               precision    recall  f1-score   support\n",
            "\n",
            "           0       0.93      0.96      0.94      7985\n",
            "           1       0.59      0.47      0.52      1058\n",
            "\n",
            "    accuracy                           0.90      9043\n",
            "   macro avg       0.76      0.71      0.73      9043\n",
            "weighted avg       0.89      0.90      0.89      9043\n",
            "\n"
          ]
        }
      ]
    },
    {
      "cell_type": "code",
      "source": [
        "# COMPARE RESULTS\n",
        "# -------------------------------------------------------\n",
        "print(\"\\n================================\")\n",
        "print(\"COMPARISON OF MODEL ACCURACIES\")\n",
        "print(\"================================\")\n",
        "print(f\"Random Forest Accuracy: {rf_accuracy:.4f}\")\n",
        "print(f\"Neural Network Accuracy: {mlp_accuracy:.4f}\")"
      ],
      "metadata": {
        "colab": {
          "base_uri": "https://localhost:8080/"
        },
        "id": "ojQIJ4PkrfuS",
        "outputId": "2df05dab-8b58-457e-b90b-6dbffab54204"
      },
      "execution_count": 26,
      "outputs": [
        {
          "output_type": "stream",
          "name": "stdout",
          "text": [
            "\n",
            "================================\n",
            "COMPARISON OF MODEL ACCURACIES\n",
            "================================\n",
            "Random Forest Accuracy: 0.9051\n",
            "Neural Network Accuracy: 0.8991\n"
          ]
        }
      ]
    }
  ]
}