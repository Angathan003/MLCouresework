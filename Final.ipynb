{
  "nbformat": 4,
  "nbformat_minor": 0,
  "metadata": {
    "colab": {
      "provenance": []
    },
    "kernelspec": {
      "name": "python3",
      "display_name": "Python 3"
    },
    "language_info": {
      "name": "python"
    }
  },
  "cells": [
    {
      "cell_type": "code",
      "execution_count": 3,
      "metadata": {
        "id": "GSgKl28LV71Y"
      },
      "outputs": [],
      "source": [
        "# Download the dataset\n",
        "!wget -q https://archive.ics.uci.edu/ml/machine-learning-databases/00222/bank.zip\n",
        "\n",
        "# Unzip the dataset\n",
        "!unzip -o -q bank.zip\n"
      ]
    },
    {
      "cell_type": "code",
      "source": [
        "import pandas as pd\n",
        "import numpy as np\n",
        "import matplotlib.pyplot as plt\n",
        "import seaborn as sns\n",
        "\n",
        "from sklearn.model_selection import train_test_split, RandomizedSearchCV\n",
        "from sklearn.preprocessing import StandardScaler\n",
        "from sklearn.ensemble import RandomForestClassifier\n",
        "from sklearn.metrics import (\n",
        "    confusion_matrix,\n",
        "    classification_report,\n",
        "    accuracy_score,\n",
        "    recall_score,\n",
        "    precision_score,\n",
        "    f1_score,\n",
        "    roc_auc_score\n",
        ")"
      ],
      "metadata": {
        "id": "_8IqJz5oWUw7"
      },
      "execution_count": 4,
      "outputs": []
    },
    {
      "cell_type": "code",
      "source": [
        "# Install and import imblearn for SMOTE\n",
        "!pip install -q imblearn\n",
        "from imblearn.over_sampling import SMOTE"
      ],
      "metadata": {
        "id": "6cq5WxXeWcce"
      },
      "execution_count": 5,
      "outputs": []
    },
    {
      "cell_type": "code",
      "source": [
        "# Import TensorFlow and Keras for Neural Network\n",
        "!pip install -q tensorflow\n",
        "import tensorflow as tf\n",
        "from tensorflow.keras.models import Sequential\n",
        "from tensorflow.keras.layers import Dense, Dropout\n",
        "from tensorflow.keras.callbacks import EarlyStopping\n",
        "\n",
        "# For handling warnings\n",
        "import warnings\n",
        "warnings.filterwarnings('ignore')"
      ],
      "metadata": {
        "id": "FqkA5i5PWh6n"
      },
      "execution_count": 6,
      "outputs": []
    },
    {
      "cell_type": "code",
      "source": [
        "# Load and Preprocess the Data\n",
        "\n",
        "# Read the bank-full.csv\n",
        "data = pd.read_csv(\"bank-full.csv\", sep=';')\n",
        "\n",
        "# Display the first few rows\n",
        "print(\"First 5 rows of the dataset:\")\n",
        "print(data.head())\n",
        "\n",
        "# Display dataset information\n",
        "print(\"\\nDataset Information:\")\n",
        "print(data.info())\n",
        "\n",
        "# Display class distribution before preprocessing\n",
        "print(\"\\nClass Distribution Before Preprocessing:\")\n",
        "print(data['y'].value_counts())\n"
      ],
      "metadata": {
        "colab": {
          "base_uri": "https://localhost:8080/"
        },
        "id": "6rRK_NvwWl92",
        "outputId": "7335db0c-d39e-4974-eb1d-7114f0414ce1"
      },
      "execution_count": 7,
      "outputs": [
        {
          "output_type": "stream",
          "name": "stdout",
          "text": [
            "First 5 rows of the dataset:\n",
            "   age           job  marital  education default  balance housing loan  \\\n",
            "0   58    management  married   tertiary      no     2143     yes   no   \n",
            "1   44    technician   single  secondary      no       29     yes   no   \n",
            "2   33  entrepreneur  married  secondary      no        2     yes  yes   \n",
            "3   47   blue-collar  married    unknown      no     1506     yes   no   \n",
            "4   33       unknown   single    unknown      no        1      no   no   \n",
            "\n",
            "   contact  day month  duration  campaign  pdays  previous poutcome   y  \n",
            "0  unknown    5   may       261         1     -1         0  unknown  no  \n",
            "1  unknown    5   may       151         1     -1         0  unknown  no  \n",
            "2  unknown    5   may        76         1     -1         0  unknown  no  \n",
            "3  unknown    5   may        92         1     -1         0  unknown  no  \n",
            "4  unknown    5   may       198         1     -1         0  unknown  no  \n",
            "\n",
            "Dataset Information:\n",
            "<class 'pandas.core.frame.DataFrame'>\n",
            "RangeIndex: 45211 entries, 0 to 45210\n",
            "Data columns (total 17 columns):\n",
            " #   Column     Non-Null Count  Dtype \n",
            "---  ------     --------------  ----- \n",
            " 0   age        45211 non-null  int64 \n",
            " 1   job        45211 non-null  object\n",
            " 2   marital    45211 non-null  object\n",
            " 3   education  45211 non-null  object\n",
            " 4   default    45211 non-null  object\n",
            " 5   balance    45211 non-null  int64 \n",
            " 6   housing    45211 non-null  object\n",
            " 7   loan       45211 non-null  object\n",
            " 8   contact    45211 non-null  object\n",
            " 9   day        45211 non-null  int64 \n",
            " 10  month      45211 non-null  object\n",
            " 11  duration   45211 non-null  int64 \n",
            " 12  campaign   45211 non-null  int64 \n",
            " 13  pdays      45211 non-null  int64 \n",
            " 14  previous   45211 non-null  int64 \n",
            " 15  poutcome   45211 non-null  object\n",
            " 16  y          45211 non-null  object\n",
            "dtypes: int64(7), object(10)\n",
            "memory usage: 5.9+ MB\n",
            "None\n",
            "\n",
            "Class Distribution Before Preprocessing:\n",
            "y\n",
            "no     39922\n",
            "yes     5289\n",
            "Name: count, dtype: int64\n"
          ]
        }
      ]
    },
    {
      "cell_type": "code",
      "source": [
        "# Drop 'duration' to Avoid Data Leakage\n",
        "\n",
        "# In realistic scenarios, 'duration' is unknown at the time of prediction.\n",
        "if 'duration' in data.columns:\n",
        "    data = data.drop(['duration'], axis=1)\n",
        "    print(\"\\n'Duration' column dropped to prevent data leakage.\")\n",
        "else:\n",
        "    print(\"\\n'Duration' column not found in the dataset.\")"
      ],
      "metadata": {
        "colab": {
          "base_uri": "https://localhost:8080/"
        },
        "id": "C1jE1jlyWxRu",
        "outputId": "8ad1de87-1567-469e-cc8e-7d340038b168"
      },
      "execution_count": 8,
      "outputs": [
        {
          "output_type": "stream",
          "name": "stdout",
          "text": [
            "\n",
            "'Duration' column dropped to prevent data leakage.\n"
          ]
        }
      ]
    },
    {
      "cell_type": "code",
      "source": [
        "# Handle Missing Values\n",
        "# Check for missing values\n",
        "missing_values = data.isnull().sum()\n",
        "print(\"\\nMissing Values in Each Column:\")\n",
        "print(missing_values)\n",
        "\n",
        "# If missing values exist, handle them\n",
        "if missing_values.sum() > 0:\n",
        "    # For numerical columns, fill with median\n",
        "    numerical_cols = data.select_dtypes(include=[np.number]).columns\n",
        "    data[numerical_cols] = data[numerical_cols].fillna(data[numerical_cols].median())\n",
        "\n",
        "    # For categorical columns, fill with mode\n",
        "    categorical_cols = data.select_dtypes(include=['object']).columns\n",
        "    data[categorical_cols] = data[categorical_cols].fillna(data[categorical_cols].mode().iloc[0])\n",
        "    print(\"\\nMissing values have been handled.\")\n",
        "else:\n",
        "    print(\"\\nNo missing values found.\")\n"
      ],
      "metadata": {
        "colab": {
          "base_uri": "https://localhost:8080/"
        },
        "id": "jOCCsGMhW7dq",
        "outputId": "c8d7b3ad-e35b-44fa-d749-80dc14ea2c6b"
      },
      "execution_count": 9,
      "outputs": [
        {
          "output_type": "stream",
          "name": "stdout",
          "text": [
            "\n",
            "Missing Values in Each Column:\n",
            "age          0\n",
            "job          0\n",
            "marital      0\n",
            "education    0\n",
            "default      0\n",
            "balance      0\n",
            "housing      0\n",
            "loan         0\n",
            "contact      0\n",
            "day          0\n",
            "month        0\n",
            "campaign     0\n",
            "pdays        0\n",
            "previous     0\n",
            "poutcome     0\n",
            "y            0\n",
            "dtype: int64\n",
            "\n",
            "No missing values found.\n"
          ]
        }
      ]
    },
    {
      "cell_type": "code",
      "source": [
        "# Outlier Detection and Handling for 'previous' Column\n",
        "# Detect and cap outliers in the 'previous' column using the IQR method\n",
        "if 'previous' in data.columns:\n",
        "    Q1 = data['previous'].quantile(0.25)\n",
        "    Q3 = data['previous'].quantile(0.75)\n",
        "    IQR = Q3 - Q1\n",
        "    lower_bound = Q1 - 1.5 * IQR\n",
        "    upper_bound = Q3 + 1.5 * IQR\n",
        "\n",
        "    # Capping the outliers\n",
        "    data['previous'] = np.where(data['previous'] < lower_bound, lower_bound, data['previous'])\n",
        "    data['previous'] = np.where(data['previous'] > upper_bound, upper_bound, data['previous'])\n",
        "    print(\"\\nOutliers in 'previous' column have been capped.\")\n",
        "else:\n",
        "    print(\"\\n'previous' column not found in the dataset.\")"
      ],
      "metadata": {
        "colab": {
          "base_uri": "https://localhost:8080/"
        },
        "id": "l4bNJj1bXMQ4",
        "outputId": "55d2992f-feee-4a9b-c9a0-eadc73088d55"
      },
      "execution_count": 10,
      "outputs": [
        {
          "output_type": "stream",
          "name": "stdout",
          "text": [
            "\n",
            "Outliers in 'previous' column have been capped.\n"
          ]
        }
      ]
    },
    {
      "cell_type": "code",
      "source": [
        "# Handle 'pdays' Column\n",
        "# 'pdays' - number of days that passed after the client was last contacted from a previous campaign\n",
        "# -1 indicates that the client was not previously contacted\n",
        "\n",
        "# Create a new binary feature indicating if the client was previously contacted\n",
        "data['previously_contacted'] = np.where(data['pdays'] == -1, 0, 1)\n",
        "\n",
        "# Replace -1 in 'pdays' with 0 for scaling purposes\n",
        "data['pdays'] = data['pdays'].replace(-1, 0)\n",
        "\n",
        "print(\"\\n'previously_contacted' feature created and 'pdays' values adjusted.\")\n"
      ],
      "metadata": {
        "colab": {
          "base_uri": "https://localhost:8080/"
        },
        "id": "WJN0Y4dSXW6W",
        "outputId": "97698aca-0249-4b4c-f58a-3897c71f5df9"
      },
      "execution_count": 11,
      "outputs": [
        {
          "output_type": "stream",
          "name": "stdout",
          "text": [
            "\n",
            "'previously_contacted' feature created and 'pdays' values adjusted.\n"
          ]
        }
      ]
    },
    {
      "cell_type": "code",
      "source": [
        "# Feature Engineering on Numeric Columns\n",
        "# Define numeric columns\n",
        "numeric_cols = ['age', 'pdays', 'previous', 'balance', 'campaign', 'day']\n",
        "\n",
        "# Create new ratio-based features, handling potential division by zero\n",
        "data['age_balance_ratio'] = data['age'] / (data['balance'] + 1e-6)  # Adding a small constant to avoid division by zero\n",
        "data['campaign_balance_ratio'] = data['campaign'] / (data['balance'] + 1e-6)\n",
        "data['previous_campaign_ratio'] = data['previous'] / (data['campaign'] + 1e-6)\n",
        "\n",
        "print(\"\\nFeature engineering on numeric columns completed.\")"
      ],
      "metadata": {
        "colab": {
          "base_uri": "https://localhost:8080/"
        },
        "id": "CsHu2PMfXiB9",
        "outputId": "70e08d94-7437-4cf3-d43e-5a4ffdde3de2"
      },
      "execution_count": 12,
      "outputs": [
        {
          "output_type": "stream",
          "name": "stdout",
          "text": [
            "\n",
            "Feature engineering on numeric columns completed.\n"
          ]
        }
      ]
    },
    {
      "cell_type": "code",
      "source": [
        "# Encode Categorical Variables\n",
        "# Identify categorical columns (excluding the target variable 'y')\n",
        "categorical_cols = data.drop('y', axis=1).select_dtypes(include=['object']).columns\n",
        "print(\"\\nCategorical Columns:\", categorical_cols.tolist())\n",
        "\n",
        "# One-Hot Encoding for categorical variables\n",
        "X = pd.get_dummies(data.drop('y', axis=1), columns=categorical_cols, drop_first=True)\n",
        "print(\"\\nShape of feature matrix after one-hot encoding:\", X.shape)\n",
        "\n",
        "# Convert target variable to binary\n",
        "y = data['y'].map({'yes': 1, 'no': 0})\n",
        "\n",
        "# Display class distribution before SMOTE\n",
        "print(\"\\nClass Distribution Before SMOTE:\")\n",
        "print(y.value_counts())"
      ],
      "metadata": {
        "colab": {
          "base_uri": "https://localhost:8080/"
        },
        "id": "OvBfSIL7Xsey",
        "outputId": "65ee314a-1372-46c5-c663-f4c86a09f32d"
      },
      "execution_count": 13,
      "outputs": [
        {
          "output_type": "stream",
          "name": "stdout",
          "text": [
            "\n",
            "Categorical Columns: ['job', 'marital', 'education', 'default', 'housing', 'loan', 'contact', 'month', 'poutcome']\n",
            "\n",
            "Shape of feature matrix after one-hot encoding: (45211, 45)\n",
            "\n",
            "Class Distribution Before SMOTE:\n",
            "y\n",
            "0    39922\n",
            "1     5289\n",
            "Name: count, dtype: int64\n"
          ]
        }
      ]
    },
    {
      "cell_type": "code",
      "source": [
        "# Apply SMOTE for Oversampling Before Scaling\n",
        "smote = SMOTE(random_state=42)\n",
        "X_resampled, y_resampled = smote.fit_resample(X, y)\n",
        "\n",
        "print(\"\\nClass Distribution After SMOTE:\")\n",
        "print(pd.Series(y_resampled).value_counts())"
      ],
      "metadata": {
        "colab": {
          "base_uri": "https://localhost:8080/"
        },
        "id": "h3p5b3cIX6kt",
        "outputId": "ece7813c-4327-44dd-c8f5-8fd3d7753c12"
      },
      "execution_count": 14,
      "outputs": [
        {
          "output_type": "stream",
          "name": "stdout",
          "text": [
            "\n",
            "Class Distribution After SMOTE:\n",
            "y\n",
            "0    39922\n",
            "1    39922\n",
            "Name: count, dtype: int64\n"
          ]
        }
      ]
    },
    {
      "cell_type": "code",
      "source": [
        "# Scale Only Numerical Features\n",
        "# Define all numeric columns including the newly created features\n",
        "scaled_numeric_cols = [\n",
        "    'age', 'pdays', 'previous', 'balance', 'campaign', 'day',\n",
        "    'age_balance_ratio', 'campaign_balance_ratio', 'previous_campaign_ratio'\n",
        "]\n",
        "\n",
        "# Check if all scaled_numeric_cols are in X_resampled\n",
        "missing_scaled_numeric = set(scaled_numeric_cols) - set(X_resampled.columns)\n",
        "if missing_scaled_numeric:\n",
        "    print(f\"\\nWarning: The following numerical columns are missing and will be skipped for scaling: {missing_scaled_numeric}\")\n",
        "    scaled_numeric_cols = list(set(scaled_numeric_cols) - missing_scaled_numeric)\n",
        "else:\n",
        "    print(\"\\nAll numeric columns identified for scaling.\")\n"
      ],
      "metadata": {
        "colab": {
          "base_uri": "https://localhost:8080/"
        },
        "id": "-lZm_zytYE5P",
        "outputId": "95412760-46f2-4609-b805-5fa62b7f00fa"
      },
      "execution_count": 15,
      "outputs": [
        {
          "output_type": "stream",
          "name": "stdout",
          "text": [
            "\n",
            "All numeric columns identified for scaling.\n"
          ]
        }
      ]
    },
    {
      "cell_type": "code",
      "source": [
        "# Extract numerical columns for scaling\n",
        "X_numerical = X_resampled[scaled_numeric_cols]\n",
        "\n",
        "# Initialize the scaler\n",
        "scaler = StandardScaler()\n",
        "\n",
        "# Fit and transform the numerical features\n",
        "X_numerical_scaled = scaler.fit_transform(X_numerical)\n",
        "\n",
        "# Create a DataFrame for scaled numerical features\n",
        "X_numerical_scaled_df = pd.DataFrame(\n",
        "    X_numerical_scaled,\n",
        "    columns=scaled_numeric_cols,\n",
        "    index=X_resampled.index\n",
        ")\n",
        "\n",
        "# Drop original numerical columns from X_resampled\n",
        "X_resampled = X_resampled.drop(columns=scaled_numeric_cols)\n",
        "\n",
        "# Concatenate scaled numerical features with the rest of the data\n",
        "X_resampled = pd.concat([X_resampled, X_numerical_scaled_df], axis=1)\n",
        "\n",
        "print(\"\\nShape of feature matrix after scaling numerical features:\", X_resampled.shape)\n"
      ],
      "metadata": {
        "colab": {
          "base_uri": "https://localhost:8080/"
        },
        "id": "4ntOClAeYSzA",
        "outputId": "fe0ba88f-23bb-4608-fc9a-580241ff0147"
      },
      "execution_count": 16,
      "outputs": [
        {
          "output_type": "stream",
          "name": "stdout",
          "text": [
            "\n",
            "Shape of feature matrix after scaling numerical features: (79844, 45)\n"
          ]
        }
      ]
    },
    {
      "cell_type": "code",
      "source": [
        "# Split the Data into Train and Test Sets\n",
        "X_final = X_resampled\n",
        "y_final = y_resampled\n",
        "\n",
        "X_train, X_test, y_train, y_test = train_test_split(\n",
        "    X_final, y_final,\n",
        "    test_size=0.2,  # 20% for testing\n",
        "    random_state=42,\n",
        "    stratify=y_final\n",
        ")\n",
        "\n",
        "print(\"\\nTraining Set Class Distribution:\")\n",
        "print(pd.Series(y_train).value_counts())\n",
        "print(\"\\nTesting Set Class Distribution:\")\n",
        "print(pd.Series(y_test).value_counts())"
      ],
      "metadata": {
        "colab": {
          "base_uri": "https://localhost:8080/"
        },
        "id": "zNIH-6FBYb17",
        "outputId": "336fd9dd-b7a7-4da2-d132-129d81c20605"
      },
      "execution_count": 17,
      "outputs": [
        {
          "output_type": "stream",
          "name": "stdout",
          "text": [
            "\n",
            "Training Set Class Distribution:\n",
            "y\n",
            "1    31938\n",
            "0    31937\n",
            "Name: count, dtype: int64\n",
            "\n",
            "Testing Set Class Distribution:\n",
            "y\n",
            "0    7985\n",
            "1    7984\n",
            "Name: count, dtype: int64\n"
          ]
        }
      ]
    },
    {
      "cell_type": "code",
      "source": [
        "# Train and Evaluate a Random Forest Model with Default Parameters\n",
        "# Initialize the Random Forest classifier with default parameters\n",
        "default_rf = RandomForestClassifier(random_state=42)\n",
        "\n",
        "# Train the model\n",
        "default_rf.fit(X_train, y_train)\n",
        "print(\"\\nDefault Random Forest model has been trained.\")\n",
        "\n",
        "# Make predictions on the test set\n",
        "rf_default_pred_test = default_rf.predict(X_test)\n",
        "\n",
        "# Make predictions on the training set\n",
        "rf_default_pred_train = default_rf.predict(X_train)\n"
      ],
      "metadata": {
        "colab": {
          "base_uri": "https://localhost:8080/"
        },
        "id": "mDE73dG45tHP",
        "outputId": "94881ecd-25f5-4f4c-f0ff-a63e4c1a1775"
      },
      "execution_count": 18,
      "outputs": [
        {
          "output_type": "stream",
          "name": "stdout",
          "text": [
            "\n",
            "Default Random Forest model has been trained.\n"
          ]
        }
      ]
    },
    {
      "cell_type": "code",
      "source": [
        "# Calculate evaluation metrics for training set\n",
        "rf_default_accuracy_train = accuracy_score(y_train, rf_default_pred_train)\n",
        "rf_default_recall_train = recall_score(y_train, rf_default_pred_train)\n",
        "rf_default_precision_train = precision_score(y_train, rf_default_pred_train)\n",
        "rf_default_f1_train = f1_score(y_train, rf_default_pred_train)\n",
        "rf_default_auc_train = roc_auc_score(y_train, default_rf.predict_proba(X_train)[:,1])"
      ],
      "metadata": {
        "id": "OY9Oz5LJ6GMW"
      },
      "execution_count": 19,
      "outputs": []
    },
    {
      "cell_type": "code",
      "source": [
        "# Calculate evaluation metrics for test set\n",
        "rf_default_accuracy_test = accuracy_score(y_test, rf_default_pred_test)\n",
        "rf_default_recall_test = recall_score(y_test, rf_default_pred_test)\n",
        "rf_default_precision_test = precision_score(y_test, rf_default_pred_test)\n",
        "rf_default_f1_test = f1_score(y_test, rf_default_pred_test)\n",
        "rf_default_auc_test = roc_auc_score(y_test, default_rf.predict_proba(X_test)[:,1])"
      ],
      "metadata": {
        "id": "99bZyBW_6OH3"
      },
      "execution_count": 20,
      "outputs": []
    },
    {
      "cell_type": "code",
      "source": [
        "# Display evaluation metrics for training set\n",
        "print(\"\\n=========================\")\n",
        "print(\"DEFAULT RANDOM FOREST TRAINING SET RESULTS\")\n",
        "print(\"=========================\")\n",
        "print(f\"Training Accuracy: {rf_default_accuracy_train:.4f}\")\n",
        "print(f\"Training Recall: {rf_default_recall_train:.4f}\")\n",
        "print(f\"Training Precision: {rf_default_precision_train:.4f}\")\n",
        "print(f\"Training F1-Score: {rf_default_f1_train:.4f}\")\n",
        "print(f\"Training AUC-ROC: {rf_default_auc_train:.4f}\")\n",
        "print(\"\\nTraining Confusion Matrix:\")\n",
        "print(confusion_matrix(y_train, rf_default_pred_train))\n",
        "print(\"\\nTraining Classification Report:\")\n",
        "print(classification_report(y_train, rf_default_pred_train))"
      ],
      "metadata": {
        "colab": {
          "base_uri": "https://localhost:8080/"
        },
        "id": "-Ub8QHBB6ata",
        "outputId": "d6a29c83-5a8e-4f89-d0d6-2782849ea329"
      },
      "execution_count": 21,
      "outputs": [
        {
          "output_type": "stream",
          "name": "stdout",
          "text": [
            "\n",
            "=========================\n",
            "DEFAULT RANDOM FOREST TRAINING SET RESULTS\n",
            "=========================\n",
            "Training Accuracy: 1.0000\n",
            "Training Recall: 1.0000\n",
            "Training Precision: 1.0000\n",
            "Training F1-Score: 1.0000\n",
            "Training AUC-ROC: 1.0000\n",
            "\n",
            "Training Confusion Matrix:\n",
            "[[31937     0]\n",
            " [    0 31938]]\n",
            "\n",
            "Training Classification Report:\n",
            "              precision    recall  f1-score   support\n",
            "\n",
            "           0       1.00      1.00      1.00     31937\n",
            "           1       1.00      1.00      1.00     31938\n",
            "\n",
            "    accuracy                           1.00     63875\n",
            "   macro avg       1.00      1.00      1.00     63875\n",
            "weighted avg       1.00      1.00      1.00     63875\n",
            "\n"
          ]
        }
      ]
    },
    {
      "cell_type": "code",
      "source": [
        "# Display evaluation metrics for test set\n",
        "print(\"\\n=========================\")\n",
        "print(\"DEFAULT RANDOM FOREST TEST SET RESULTS\")\n",
        "print(\"=========================\")\n",
        "print(f\"Test Accuracy: {rf_default_accuracy_test:.4f}\")\n",
        "print(f\"Test Recall: {rf_default_recall_test:.4f}\")\n",
        "print(f\"Test Precision: {rf_default_precision_test:.4f}\")\n",
        "print(f\"Test F1-Score: {rf_default_f1_test:.4f}\")\n",
        "print(f\"Test AUC-ROC: {rf_default_auc_test:.4f}\")\n",
        "print(\"\\nTest Confusion Matrix:\")\n",
        "print(confusion_matrix(y_test, rf_default_pred_test))\n",
        "print(\"\\nTest Classification Report:\")\n",
        "print(classification_report(y_test, rf_default_pred_test))"
      ],
      "metadata": {
        "colab": {
          "base_uri": "https://localhost:8080/"
        },
        "id": "ud7zgw0v6TSy",
        "outputId": "7d34d2ca-1333-45a7-baa7-35b301595404"
      },
      "execution_count": 22,
      "outputs": [
        {
          "output_type": "stream",
          "name": "stdout",
          "text": [
            "\n",
            "=========================\n",
            "DEFAULT RANDOM FOREST TEST SET RESULTS\n",
            "=========================\n",
            "Test Accuracy: 0.9356\n",
            "Test Recall: 0.9092\n",
            "Test Precision: 0.9599\n",
            "Test F1-Score: 0.9339\n",
            "Test AUC-ROC: 0.9758\n",
            "\n",
            "Test Confusion Matrix:\n",
            "[[7682  303]\n",
            " [ 725 7259]]\n",
            "\n",
            "Test Classification Report:\n",
            "              precision    recall  f1-score   support\n",
            "\n",
            "           0       0.91      0.96      0.94      7985\n",
            "           1       0.96      0.91      0.93      7984\n",
            "\n",
            "    accuracy                           0.94     15969\n",
            "   macro avg       0.94      0.94      0.94     15969\n",
            "weighted avg       0.94      0.94      0.94     15969\n",
            "\n"
          ]
        }
      ]
    },
    {
      "cell_type": "code",
      "source": [
        "# Hyperparameter Tuning for Random Forest using RandomizedSearchCV\n",
        "# Define the parameter grid for RandomizedSearchCV\n",
        "param_dist = {\n",
        "    'n_estimators': [100, 200],\n",
        "    'max_depth': [None, 10, 20, 30],\n",
        "    'min_samples_split': [2, 5, 10, 15],\n",
        "    'min_samples_leaf': [1, 2, 4, 6],\n",
        "    'max_features': ['auto', 'sqrt', 'log2'],\n",
        "    'bootstrap': [True, False]\n",
        "}\n",
        "\n",
        "# Initialize the Random Forest classifier\n",
        "rf = RandomForestClassifier(random_state=42)\n",
        "\n",
        "# Initialize RandomizedSearchCV\n",
        "random_search = RandomizedSearchCV(\n",
        "    estimator=rf,\n",
        "    param_distributions=param_dist,\n",
        "    n_iter=10,  # Number of parameter settings that are sampled\n",
        "    scoring='roc_auc',\n",
        "    cv=3,  # 3-fold cross-validation\n",
        "    verbose=2,\n",
        "    random_state=42,\n",
        "    n_jobs=-1  # Use all available cores\n",
        ")\n",
        "\n",
        "# Fit RandomizedSearchCV to the training data\n",
        "print(\"\\nStarting RandomizedSearchCV for Hyperparameter Tuning...\")\n",
        "random_search.fit(X_train, y_train)\n",
        "\n",
        "# Retrieve the best parameters\n",
        "best_params_rf = random_search.best_params_\n",
        "print(\"\\nBest Parameters Found for Random Forest:\")\n",
        "print(best_params_rf)"
      ],
      "metadata": {
        "colab": {
          "base_uri": "https://localhost:8080/"
        },
        "id": "8en0obFzYlOX",
        "outputId": "ec2e83c9-b7d9-4d32-8b11-61ff58082af5"
      },
      "execution_count": 23,
      "outputs": [
        {
          "output_type": "stream",
          "name": "stdout",
          "text": [
            "\n",
            "Starting RandomizedSearchCV for Hyperparameter Tuning...\n",
            "Fitting 3 folds for each of 10 candidates, totalling 30 fits\n",
            "\n",
            "Best Parameters Found for Random Forest:\n",
            "{'n_estimators': 100, 'min_samples_split': 10, 'min_samples_leaf': 1, 'max_features': 'sqrt', 'max_depth': 30, 'bootstrap': True}\n"
          ]
        }
      ]
    },
    {
      "cell_type": "code",
      "source": [
        "# Fit the Random Forest model with best parameters on the entire training set\n",
        "best_rf = RandomForestClassifier(\n",
        "    n_estimators=best_params_rf['n_estimators'],\n",
        "    max_depth=best_params_rf['max_depth'],\n",
        "    min_samples_split=best_params_rf['min_samples_split'],\n",
        "    min_samples_leaf=best_params_rf['min_samples_leaf'],\n",
        "    max_features=best_params_rf['max_features'],\n",
        "    bootstrap=best_params_rf['bootstrap'],\n",
        "    random_state=42\n",
        ")\n",
        "\n",
        "best_rf.fit(X_train, y_train)\n",
        "print(\"\\nRandom Forest model trained with best parameters.\")"
      ],
      "metadata": {
        "colab": {
          "base_uri": "https://localhost:8080/"
        },
        "id": "JCupXiQG0Zm7",
        "outputId": "ae8c33bc-2412-49ab-b25c-328ff0b3cd10"
      },
      "execution_count": 24,
      "outputs": [
        {
          "output_type": "stream",
          "name": "stdout",
          "text": [
            "\n",
            "Random Forest model trained with best parameters.\n"
          ]
        }
      ]
    },
    {
      "cell_type": "code",
      "source": [
        "# Extract feature importances\n",
        "importances = best_rf.feature_importances_\n",
        "feature_names = X_final.columns\n",
        "feature_importances = pd.DataFrame({\n",
        "    'Feature': feature_names,\n",
        "    'Importance': importances\n",
        "}).sort_values(by='Importance', ascending=False)\n",
        "\n",
        "# Display top 20 features\n",
        "top_features = feature_importances.head(20)\n",
        "print(\"\\nTop 20 Features based on Feature Importances:\")\n",
        "print(top_features)"
      ],
      "metadata": {
        "colab": {
          "base_uri": "https://localhost:8080/"
        },
        "id": "yoxQg22W0jlt",
        "outputId": "9a1d0587-e0bb-4314-d17f-d4a13ed1e200"
      },
      "execution_count": 25,
      "outputs": [
        {
          "output_type": "stream",
          "name": "stdout",
          "text": [
            "\n",
            "Top 20 Features based on Feature Importances:\n",
            "                Feature  Importance\n",
            "34     poutcome_success    0.090980\n",
            "15   education_tertiary    0.075693\n",
            "14  education_secondary    0.065052\n",
            "12      marital_married    0.063207\n",
            "39              balance    0.050765\n",
            "13       marital_single    0.050123\n",
            "36                  age    0.046158\n",
            "41                  day    0.045453\n",
            "1       job_blue-collar    0.034942\n",
            "37                pdays    0.034139\n",
            "4        job_management    0.032846\n",
            "40             campaign    0.028505\n",
            "28            month_mar    0.025155\n",
            "31            month_oct    0.024378\n",
            "9        job_technician    0.022918\n",
            "22            month_aug    0.021281\n",
            "5           job_retired    0.018875\n",
            "29            month_may    0.018724\n",
            "32            month_sep    0.017615\n",
            "26            month_jul    0.017533\n"
          ]
        }
      ]
    },
    {
      "cell_type": "code",
      "source": [
        "# Plot feature importances\n",
        "plt.figure(figsize=(12, 8))\n",
        "sns.barplot(x='Importance', y='Feature', data=top_features, palette='viridis')\n",
        "plt.title(\"Top 20 Feature Importances - Tuned Random Forest\")\n",
        "plt.xlabel(\"Importance Score\")\n",
        "plt.ylabel(\"Feature\")\n",
        "plt.tight_layout()\n",
        "plt.show()"
      ],
      "metadata": {
        "colab": {
          "base_uri": "https://localhost:8080/",
          "height": 807
        },
        "id": "LXxOWsj30v11",
        "outputId": "2d23cef6-6c85-4f1a-8384-c44415b95fe0"
      },
      "execution_count": 26,
      "outputs": [
        {
          "output_type": "display_data",
          "data": {
            "text/plain": [
              "<Figure size 1200x800 with 1 Axes>"
            ],
            "image/png": "[encoded data removed]"
          },
          "metadata": {}
        }
      ]
    },
    {
      "cell_type": "code",
      "source": [
        "# Select top N features (e.g., top 20)\n",
        "selected_features = top_features['Feature'].tolist()\n",
        "\n",
        "# Reduce the training and testing data to selected features\n",
        "X_train_selected = X_train[selected_features]\n",
        "X_test_selected = X_test[selected_features]\n",
        "\n",
        "print(f\"\\nShape of training data after feature selection: {X_train_selected.shape}\")\n",
        "print(f\"Shape of testing data after feature selection: {X_test_selected.shape}\")"
      ],
      "metadata": {
        "colab": {
          "base_uri": "https://localhost:8080/"
        },
        "id": "6qsJWpFE02aa",
        "outputId": "8dfe8a69-11c4-437f-e83b-5f8ced37b821"
      },
      "execution_count": 27,
      "outputs": [
        {
          "output_type": "stream",
          "name": "stdout",
          "text": [
            "\n",
            "Shape of training data after feature selection: (63875, 20)\n",
            "Shape of testing data after feature selection: (15969, 20)\n"
          ]
        }
      ]
    },
    {
      "cell_type": "code",
      "source": [
        "# Retrain Random Forest with Selected Features\n",
        "# Initialize the Random Forest with best parameters\n",
        "final_rf = RandomForestClassifier(\n",
        "    n_estimators=best_params_rf['n_estimators'],\n",
        "    max_depth=best_params_rf['max_depth'],\n",
        "    min_samples_split=best_params_rf['min_samples_split'],\n",
        "    min_samples_leaf=best_params_rf['min_samples_leaf'],\n",
        "    max_features=best_params_rf['max_features'],\n",
        "    bootstrap=best_params_rf['bootstrap'],\n",
        "    random_state=42\n",
        ")\n",
        "\n",
        "# Train the model\n",
        "final_rf.fit(X_train_selected, y_train)\n",
        "print(\"\\nRandom Forest model retrained with selected features.\")\n"
      ],
      "metadata": {
        "colab": {
          "base_uri": "https://localhost:8080/"
        },
        "id": "rHL4YKc-0-zs",
        "outputId": "e395d2e3-b31a-445b-99d9-aed9ae58a544"
      },
      "execution_count": 28,
      "outputs": [
        {
          "output_type": "stream",
          "name": "stdout",
          "text": [
            "\n",
            "Random Forest model retrained with selected features.\n"
          ]
        }
      ]
    },
    {
      "cell_type": "code",
      "source": [
        "# Make Predictions and Evaluate the Final Random Forest Model\n",
        "# Make predictions on the test set\n",
        "rf_final_pred_test = final_rf.predict(X_test_selected)\n",
        "\n",
        "# Make predictions on the training set\n",
        "rf_final_pred_train = final_rf.predict(X_train_selected)\n"
      ],
      "metadata": {
        "id": "E5QcjGBw1V2p"
      },
      "execution_count": 29,
      "outputs": []
    },
    {
      "cell_type": "code",
      "source": [
        "# Calculate evaluation metrics for test set\n",
        "rf_final_accuracy_test = accuracy_score(y_test, rf_final_pred_test)\n",
        "rf_final_recall_test = recall_score(y_test, rf_final_pred_test)\n",
        "rf_final_precision_test = precision_score(y_test, rf_final_pred_test)\n",
        "rf_final_f1_test = f1_score(y_test, rf_final_pred_test)\n",
        "rf_final_auc_test = roc_auc_score(y_test, final_rf.predict_proba(X_test_selected)[:,1])\n",
        "\n",
        "# Calculate evaluation metrics for training set\n",
        "rf_final_accuracy_train = accuracy_score(y_train, rf_final_pred_train)\n",
        "rf_final_recall_train = recall_score(y_train, rf_final_pred_train)\n",
        "rf_final_precision_train = precision_score(y_train, rf_final_pred_train)\n",
        "rf_final_f1_train = f1_score(y_train, rf_final_pred_train)\n",
        "rf_final_auc_train = roc_auc_score(y_train, final_rf.predict_proba(X_train_selected)[:,1])"
      ],
      "metadata": {
        "id": "85KkcpZp1kgw"
      },
      "execution_count": 30,
      "outputs": []
    },
    {
      "cell_type": "code",
      "source": [
        "# Display evaluation metrics for training set\n",
        "print(\"\\n=========================\")\n",
        "print(\"FINAL RANDOM FOREST TRAINING SET RESULTS\")\n",
        "print(\"=========================\")\n",
        "print(f\"Training Accuracy: {rf_final_accuracy_train:.4f}\")\n",
        "print(f\"Training Recall: {rf_final_recall_train:.4f}\")\n",
        "print(f\"Training Precision: {rf_final_precision_train:.4f}\")\n",
        "print(f\"Training F1-Score: {rf_final_f1_train:.4f}\")\n",
        "print(f\"Training AUC-ROC: {rf_final_auc_train:.4f}\")\n",
        "print(\"\\nTraining Confusion Matrix:\")\n",
        "print(confusion_matrix(y_train, rf_final_pred_train))\n",
        "print(\"\\nTraining Classification Report:\")\n",
        "print(classification_report(y_train, rf_final_pred_train))\n"
      ],
      "metadata": {
        "colab": {
          "base_uri": "https://localhost:8080/"
        },
        "id": "dFQGok5Y17TK",
        "outputId": "3bdc0837-9eff-4362-82c2-42d1b1ac53e0"
      },
      "execution_count": 31,
      "outputs": [
        {
          "output_type": "stream",
          "name": "stdout",
          "text": [
            "\n",
            "=========================\n",
            "FINAL RANDOM FOREST TRAINING SET RESULTS\n",
            "=========================\n",
            "Training Accuracy: 0.9508\n",
            "Training Recall: 0.9204\n",
            "Training Precision: 0.9801\n",
            "Training F1-Score: 0.9493\n",
            "Training AUC-ROC: 0.9951\n",
            "\n",
            "Training Confusion Matrix:\n",
            "[[31339   598]\n",
            " [ 2543 29395]]\n",
            "\n",
            "Training Classification Report:\n",
            "              precision    recall  f1-score   support\n",
            "\n",
            "           0       0.92      0.98      0.95     31937\n",
            "           1       0.98      0.92      0.95     31938\n",
            "\n",
            "    accuracy                           0.95     63875\n",
            "   macro avg       0.95      0.95      0.95     63875\n",
            "weighted avg       0.95      0.95      0.95     63875\n",
            "\n"
          ]
        }
      ]
    },
    {
      "cell_type": "code",
      "source": [
        "# Display evaluation metrics for test set\n",
        "print(\"\\n=========================\")\n",
        "print(\"FINAL RANDOM FOREST TEST SET RESULTS\")\n",
        "print(\"=========================\")\n",
        "print(f\"Test Accuracy: {rf_final_accuracy_test:.4f}\")\n",
        "print(f\"Test Recall: {rf_final_recall_test:.4f}\")\n",
        "print(f\"Test Precision: {rf_final_precision_test:.4f}\")\n",
        "print(f\"Test F1-Score: {rf_final_f1_test:.4f}\")\n",
        "print(f\"Test AUC-ROC: {rf_final_auc_test:.4f}\")\n",
        "print(\"\\nTest Confusion Matrix:\")\n",
        "print(confusion_matrix(y_test, rf_final_pred_test))\n",
        "print(\"\\nTest Classification Report:\")\n",
        "print(classification_report(y_test, rf_final_pred_test))\n"
      ],
      "metadata": {
        "colab": {
          "base_uri": "https://localhost:8080/"
        },
        "id": "L53pYK1c1shO",
        "outputId": "a9ba8536-0240-4ec8-c081-e5bfe176d3a0"
      },
      "execution_count": 32,
      "outputs": [
        {
          "output_type": "stream",
          "name": "stdout",
          "text": [
            "\n",
            "=========================\n",
            "FINAL RANDOM FOREST TEST SET RESULTS\n",
            "=========================\n",
            "Test Accuracy: 0.9026\n",
            "Test Recall: 0.8581\n",
            "Test Precision: 0.9418\n",
            "Test F1-Score: 0.8980\n",
            "Test AUC-ROC: 0.9604\n",
            "\n",
            "Test Confusion Matrix:\n",
            "[[7562  423]\n",
            " [1133 6851]]\n",
            "\n",
            "Test Classification Report:\n",
            "              precision    recall  f1-score   support\n",
            "\n",
            "           0       0.87      0.95      0.91      7985\n",
            "           1       0.94      0.86      0.90      7984\n",
            "\n",
            "    accuracy                           0.90     15969\n",
            "   macro avg       0.91      0.90      0.90     15969\n",
            "weighted avg       0.91      0.90      0.90     15969\n",
            "\n"
          ]
        }
      ]
    },
    {
      "cell_type": "code",
      "source": [
        "# Plot Feature Importance for Final Random Forest\n",
        "if hasattr(final_rf, 'feature_importances_'):\n",
        "    feature_importances_final = final_rf.feature_importances_\n",
        "    feature_names_final = X_train_selected.columns\n",
        "    importance_df_final = pd.DataFrame({\n",
        "        'Feature': feature_names_final,\n",
        "        'Importance': feature_importances_final\n",
        "    }).sort_values(by='Importance', ascending=False)\n",
        "\n",
        "    # Plotting the feature importances\n",
        "    plt.figure(figsize=(12, 8))\n",
        "    sns.barplot(x='Importance', y='Feature', data=importance_df_final, palette='viridis')\n",
        "    plt.title(\"Feature Importances - Final Random Forest\")\n",
        "    plt.xlabel(\"Importance Score\")\n",
        "    plt.ylabel(\"Feature\")\n",
        "    plt.tight_layout()\n",
        "    plt.show()\n",
        "else:\n",
        "    print(\"The final Random Forest model does not have 'feature_importances_' attribute.\")\n"
      ],
      "metadata": {
        "colab": {
          "base_uri": "https://localhost:8080/",
          "height": 807
        },
        "id": "26SWXMAK2A4N",
        "outputId": "c5ebdb92-77cd-4944-903f-46dfc70bf6d7"
      },
      "execution_count": 33,
      "outputs": [
        {
          "output_type": "display_data",
          "data": {
            "text/plain": [
              "<Figure size 1200x800 with 1 Axes>"
            ],
            "image/png": "[encoded data removed]"
          },
          "metadata": {}
        }
      ]
    },
    {
      "cell_type": "code",
      "source": [
        "# Import necessary libraries\n",
        "from sklearn.neural_network import MLPClassifier\n",
        "from sklearn.model_selection import GridSearchCV\n",
        "from sklearn.metrics import (\n",
        "    confusion_matrix,\n",
        "    classification_report,\n",
        "    accuracy_score,\n",
        "    recall_score,\n",
        "    precision_score,\n",
        "    f1_score,\n",
        "    roc_auc_score\n",
        ")"
      ],
      "metadata": {
        "id": "SnbCRHYO_KcY"
      },
      "execution_count": 34,
      "outputs": []
    },
    {
      "cell_type": "code",
      "source": [
        "# Train and Evaluate MLPClassifier with Default Parameters\n",
        "# Initialize the MLPClassifier with default parameters\n",
        "mlp_default = MLPClassifier(\n",
        "    hidden_layer_sizes=(64,),\n",
        "    max_iter=300,\n",
        "    activation='relu',\n",
        "    solver='adam',\n",
        "    random_state=42\n",
        ")\n",
        "\n",
        "# Train the model on the training data\n",
        "mlp_default.fit(X_train, y_train)\n",
        "print(\"\\nDefault MLPClassifier model has been trained.\")\n"
      ],
      "metadata": {
        "colab": {
          "base_uri": "https://localhost:8080/"
        },
        "id": "SxoByQzS8-JY",
        "outputId": "0b6d4cce-91a8-4326-8876-7e587301ec93"
      },
      "execution_count": 35,
      "outputs": [
        {
          "output_type": "stream",
          "name": "stdout",
          "text": [
            "\n",
            "Default MLPClassifier model has been trained.\n"
          ]
        }
      ]
    },
    {
      "cell_type": "code",
      "source": [
        "# Make predictions on the test set\n",
        "mlp_default_pred_test = mlp_default.predict(X_test)\n",
        "\n",
        "# Make predictions on the training set\n",
        "mlp_default_pred_train = mlp_default.predict(X_train)\n",
        "\n",
        "# Calculate evaluation metrics for the default model (test set)\n",
        "mlp_default_accuracy_test = accuracy_score(y_test, mlp_default_pred_test)\n",
        "mlp_default_recall_test = recall_score(y_test, mlp_default_pred_test)\n",
        "mlp_default_precision_test = precision_score(y_test, mlp_default_pred_test)\n",
        "mlp_default_f1_test = f1_score(y_test, mlp_default_pred_test)\n",
        "mlp_default_auc_test = roc_auc_score(y_test, mlp_default.predict_proba(X_test)[:,1])\n",
        "\n",
        "# Calculate evaluation metrics for the default model (training set)\n",
        "mlp_default_accuracy_train = accuracy_score(y_train, mlp_default_pred_train)\n",
        "mlp_default_recall_train = recall_score(y_train, mlp_default_pred_train)\n",
        "mlp_default_precision_train = precision_score(y_train, mlp_default_pred_train)\n",
        "mlp_default_f1_train = f1_score(y_train, mlp_default_pred_train)\n",
        "mlp_default_auc_train = roc_auc_score(y_train, mlp_default.predict_proba(X_train)[:,1])\n",
        "\n"
      ],
      "metadata": {
        "id": "wLXJoniK_RfO"
      },
      "execution_count": 36,
      "outputs": []
    },
    {
      "cell_type": "code",
      "source": [
        "# Display evaluation metrics for the default model (training set)\n",
        "print(\"\\n=========================\")\n",
        "print(\"DEFAULT MLPCLASSIFIER TRAINING SET RESULTS\")\n",
        "print(\"=========================\")\n",
        "print(f\"Training Accuracy: {mlp_default_accuracy_train:.4f}\")\n",
        "print(f\"Training Recall: {mlp_default_recall_train:.4f}\")\n",
        "print(f\"Training Precision: {mlp_default_precision_train:.4f}\")\n",
        "print(f\"Training F1-Score: {mlp_default_f1_train:.4f}\")\n",
        "print(f\"Training AUC-ROC: {mlp_default_auc_train:.4f}\")\n",
        "print(\"\\nTraining Confusion Matrix:\")\n",
        "print(confusion_matrix(y_train, mlp_default_pred_train))\n",
        "print(\"\\nTraining Classification Report:\")\n",
        "print(classification_report(y_train, mlp_default_pred_train))"
      ],
      "metadata": {
        "colab": {
          "base_uri": "https://localhost:8080/"
        },
        "id": "fIjKp280AXc5",
        "outputId": "bd5009e0-84e2-4830-8e23-33cf71b928a3"
      },
      "execution_count": 37,
      "outputs": [
        {
          "output_type": "stream",
          "name": "stdout",
          "text": [
            "\n",
            "=========================\n",
            "DEFAULT MLPCLASSIFIER TRAINING SET RESULTS\n",
            "=========================\n",
            "Training Accuracy: 0.9361\n",
            "Training Recall: 0.8980\n",
            "Training Precision: 0.9721\n",
            "Training F1-Score: 0.9336\n",
            "Training AUC-ROC: 0.9778\n",
            "\n",
            "Training Confusion Matrix:\n",
            "[[31113   824]\n",
            " [ 3258 28680]]\n",
            "\n",
            "Training Classification Report:\n",
            "              precision    recall  f1-score   support\n",
            "\n",
            "           0       0.91      0.97      0.94     31937\n",
            "           1       0.97      0.90      0.93     31938\n",
            "\n",
            "    accuracy                           0.94     63875\n",
            "   macro avg       0.94      0.94      0.94     63875\n",
            "weighted avg       0.94      0.94      0.94     63875\n",
            "\n"
          ]
        }
      ]
    },
    {
      "cell_type": "code",
      "source": [
        "# Display evaluation metrics for the default model (test set)\n",
        "print(\"\\n=========================\")\n",
        "print(\"DEFAULT MLPCLASSIFIER TEST SET RESULTS\")\n",
        "print(\"=========================\")\n",
        "print(f\"Test Accuracy: {mlp_default_accuracy_test:.4f}\")\n",
        "print(f\"Test Recall: {mlp_default_recall_test:.4f}\")\n",
        "print(f\"Test Precision: {mlp_default_precision_test:.4f}\")\n",
        "print(f\"Test F1-Score: {mlp_default_f1_test:.4f}\")\n",
        "print(f\"Test AUC-ROC: {mlp_default_auc_test:.4f}\")\n",
        "print(\"\\nTest Confusion Matrix:\")\n",
        "print(confusion_matrix(y_test, mlp_default_pred_test))\n",
        "print(\"\\nTest Classification Report:\")\n",
        "print(classification_report(y_test, mlp_default_pred_test))"
      ],
      "metadata": {
        "colab": {
          "base_uri": "https://localhost:8080/"
        },
        "id": "ykomhjQZAdy7",
        "outputId": "027859e6-3602-47b2-ae50-2ba9d12b836b"
      },
      "execution_count": 38,
      "outputs": [
        {
          "output_type": "stream",
          "name": "stdout",
          "text": [
            "\n",
            "=========================\n",
            "DEFAULT MLPCLASSIFIER TEST SET RESULTS\n",
            "=========================\n",
            "Test Accuracy: 0.9219\n",
            "Test Recall: 0.8826\n",
            "Test Precision: 0.9579\n",
            "Test F1-Score: 0.9187\n",
            "Test AUC-ROC: 0.9621\n",
            "\n",
            "Test Confusion Matrix:\n",
            "[[7675  310]\n",
            " [ 937 7047]]\n",
            "\n",
            "Test Classification Report:\n",
            "              precision    recall  f1-score   support\n",
            "\n",
            "           0       0.89      0.96      0.92      7985\n",
            "           1       0.96      0.88      0.92      7984\n",
            "\n",
            "    accuracy                           0.92     15969\n",
            "   macro avg       0.92      0.92      0.92     15969\n",
            "weighted avg       0.92      0.92      0.92     15969\n",
            "\n"
          ]
        }
      ]
    },
    {
      "cell_type": "code",
      "source": [
        "param_distributions = {\n",
        "    'hidden_layer_sizes': [(64,), (128,), (64, 64)],\n",
        "    'activation': ['relu', 'tanh'],\n",
        "    'solver': ['adam'],\n",
        "    'alpha': [0.0001, 0.001],\n",
        "    'learning_rate_init': [0.001, 0.01]\n",
        "}\n",
        "\n",
        "mlp = MLPClassifier(\n",
        "    max_iter=300,\n",
        "    random_state=42,\n",
        "    early_stopping=True,\n",
        "    n_iter_no_change=10,\n",
        "    validation_fraction=0.1\n",
        ")\n",
        "\n",
        "random_search = RandomizedSearchCV(\n",
        "    estimator=mlp,\n",
        "    param_distributions=param_distributions,\n",
        "    n_iter=20,\n",
        "    cv=2,\n",
        "    scoring='roc_auc',\n",
        "    verbose=2,\n",
        "    random_state=42,\n",
        "    n_jobs=-1\n",
        ")\n",
        "\n",
        "print(\"\\nStarting RandomizedSearchCV for MLPClassifier Hyperparameter Tuning...\")\n",
        "random_search.fit(X_train, y_train)"
      ],
      "metadata": {
        "colab": {
          "base_uri": "https://localhost:8080/",
          "height": 478
        },
        "id": "0_kAgGMdQUc0",
        "outputId": "0736cc0b-23f4-4ce5-d53b-88a2d0b537a0"
      },
      "execution_count": 43,
      "outputs": [
        {
          "output_type": "stream",
          "name": "stdout",
          "text": [
            "\n",
            "Starting RandomizedSearchCV for MLPClassifier Hyperparameter Tuning...\n",
            "Fitting 2 folds for each of 20 candidates, totalling 40 fits\n"
          ]
        },
        {
          "output_type": "execute_result",
          "data": {
            "text/plain": [
              "RandomizedSearchCV(cv=2,\n",
              "                   estimator=MLPClassifier(early_stopping=True, max_iter=300,\n",
              "                                           random_state=42),\n",
              "                   n_iter=20, n_jobs=-1,\n",
              "                   param_distributions={'activation': ['relu', 'tanh'],\n",
              "                                        'alpha': [0.0001, 0.001],\n",
              "                                        'hidden_layer_sizes': [(64,), (128,),\n",
              "                                                               (64, 64)],\n",
              "                                        'learning_rate_init': [0.001, 0.01],\n",
              "                                        'solver': ['adam']},\n",
              "                   random_state=42, scoring='roc_auc', verbose=2)"
            ],
            "text/html": [
              "<style>#sk-container-id-1 {\n",
              "  /* Definition of color scheme common for light and dark mode */\n",
              "  --sklearn-color-text: #000;\n",
              "  --sklearn-color-text-muted: #666;\n",
              "  --sklearn-color-line: gray;\n",
              "  /* Definition of color scheme for unfitted estimators */\n",
              "  --sklearn-color-unfitted-level-0: #fff5e6;\n",
              "  --sklearn-color-unfitted-level-1: #f6e4d2;\n",
              "  --sklearn-color-unfitted-level-2: #ffe0b3;\n",
              "  --sklearn-color-unfitted-level-3: chocolate;\n",
              "  /* Definition of color scheme for fitted estimators */\n",
              "  --sklearn-color-fitted-level-0: #f0f8ff;\n",
              "  --sklearn-color-fitted-level-1: #d4ebff;\n",
              "  --sklearn-color-fitted-level-2: #b3dbfd;\n",
              "  --sklearn-color-fitted-level-3: cornflowerblue;\n",
              "\n",
              "  /* Specific color for light theme */\n",
              "  --sklearn-color-text-on-default-background: var(--sg-text-color, var(--theme-code-foreground, var(--jp-content-font-color1, black)));\n",
              "  --sklearn-color-background: var(--sg-background-color, var(--theme-background, var(--jp-layout-color0, white)));\n",
              "  --sklearn-color-border-box: var(--sg-text-color, var(--theme-code-foreground, var(--jp-content-font-color1, black)));\n",
              "  --sklearn-color-icon: #696969;\n",
              "\n",
              "  @media (prefers-color-scheme: dark) {\n",
              "    /* Redefinition of color scheme for dark theme */\n",
              "    --sklearn-color-text-on-default-background: var(--sg-text-color, var(--theme-code-foreground, var(--jp-content-font-color1, white)));\n",
              "    --sklearn-color-background: var(--sg-background-color, var(--theme-background, var(--jp-layout-color0, #111)));\n",
              "    --sklearn-color-border-box: var(--sg-text-color, var(--theme-code-foreground, var(--jp-content-font-color1, white)));\n",
              "    --sklearn-color-icon: #878787;\n",
              "  }\n",
              "}\n",
              "\n",
              "#sk-container-id-1 {\n",
              "  color: var(--sklearn-color-text);\n",
              "}\n",
              "\n",
              "#sk-container-id-1 pre {\n",
              "  padding: 0;\n",
              "}\n",
              "\n",
              "#sk-container-id-1 input.sk-hidden--visually {\n",
              "  border: 0;\n",
              "  clip: rect(1px 1px 1px 1px);\n",
              "  clip: rect(1px, 1px, 1px, 1px);\n",
              "  height: 1px;\n",
              "  margin: -1px;\n",
              "  overflow: hidden;\n",
              "  padding: 0;\n",
              "  position: absolute;\n",
              "  width: 1px;\n",
              "}\n",
              "\n",
              "#sk-container-id-1 div.sk-dashed-wrapped {\n",
              "  border: 1px dashed var(--sklearn-color-line);\n",
              "  margin: 0 0.4em 0.5em 0.4em;\n",
              "  box-sizing: border-box;\n",
              "  padding-bottom: 0.4em;\n",
              "  background-color: var(--sklearn-color-background);\n",
              "}\n",
              "\n",
              "#sk-container-id-1 div.sk-container {\n",
              "  /* jupyter's `normalize.less` sets `[hidden] { display: none; }`\n",
              "     but bootstrap.min.css set `[hidden] { display: none !important; }`\n",
              "     so we also need the `!important` here to be able to override the\n",
              "     default hidden behavior on the sphinx rendered scikit-learn.org.\n",
              "     See: https://github.com/scikit-learn/scikit-learn/issues/21755 */\n",
              "  display: inline-block !important;\n",
              "  position: relative;\n",
              "}\n",
              "\n",
              "#sk-container-id-1 div.sk-text-repr-fallback {\n",
              "  display: none;\n",
              "}\n",
              "\n",
              "div.sk-parallel-item,\n",
              "div.sk-serial,\n",
              "div.sk-item {\n",
              "  /* draw centered vertical line to link estimators */\n",
              "  background-image: linear-gradient(var(--sklearn-color-text-on-default-background), var(--sklearn-color-text-on-default-background));\n",
              "  background-size: 2px 100%;\n",
              "  background-repeat: no-repeat;\n",
              "  background-position: center center;\n",
              "}\n",
              "\n",
              "/* Parallel-specific style estimator block */\n",
              "\n",
              "#sk-container-id-1 div.sk-parallel-item::after {\n",
              "  content: \"\";\n",
              "  width: 100%;\n",
              "  border-bottom: 2px solid var(--sklearn-color-text-on-default-background);\n",
              "  flex-grow: 1;\n",
              "}\n",
              "\n",
              "#sk-container-id-1 div.sk-parallel {\n",
              "  display: flex;\n",
              "  align-items: stretch;\n",
              "  justify-content: center;\n",
              "  background-color: var(--sklearn-color-background);\n",
              "  position: relative;\n",
              "}\n",
              "\n",
              "#sk-container-id-1 div.sk-parallel-item {\n",
              "  display: flex;\n",
              "  flex-direction: column;\n",
              "}\n",
              "\n",
              "#sk-container-id-1 div.sk-parallel-item:first-child::after {\n",
              "  align-self: flex-end;\n",
              "  width: 50%;\n",
              "}\n",
              "\n",
              "#sk-container-id-1 div.sk-parallel-item:last-child::after {\n",
              "  align-self: flex-start;\n",
              "  width: 50%;\n",
              "}\n",
              "\n",
              "#sk-container-id-1 div.sk-parallel-item:only-child::after {\n",
              "  width: 0;\n",
              "}\n",
              "\n",
              "/* Serial-specific style estimator block */\n",
              "\n",
              "#sk-container-id-1 div.sk-serial {\n",
              "  display: flex;\n",
              "  flex-direction: column;\n",
              "  align-items: center;\n",
              "  background-color: var(--sklearn-color-background);\n",
              "  padding-right: 1em;\n",
              "  padding-left: 1em;\n",
              "}\n",
              "\n",
              "\n",
              "/* Toggleable style: style used for estimator/Pipeline/ColumnTransformer box that is\n",
              "clickable and can be expanded/collapsed.\n",
              "- Pipeline and ColumnTransformer use this feature and define the default style\n",
              "- Estimators will overwrite some part of the style using the `sk-estimator` class\n",
              "*/\n",
              "\n",
              "/* Pipeline and ColumnTransformer style (default) */\n",
              "\n",
              "#sk-container-id-1 div.sk-toggleable {\n",
              "  /* Default theme specific background. It is overwritten whether we have a\n",
              "  specific estimator or a Pipeline/ColumnTransformer */\n",
              "  background-color: var(--sklearn-color-background);\n",
              "}\n",
              "\n",
              "/* Toggleable label */\n",
              "#sk-container-id-1 label.sk-toggleable__label {\n",
              "  cursor: pointer;\n",
              "  display: flex;\n",
              "  width: 100%;\n",
              "  margin-bottom: 0;\n",
              "  padding: 0.5em;\n",
              "  box-sizing: border-box;\n",
              "  text-align: center;\n",
              "  align-items: start;\n",
              "  justify-content: space-between;\n",
              "  gap: 0.5em;\n",
              "}\n",
              "\n",
              "#sk-container-id-1 label.sk-toggleable__label .caption {\n",
              "  font-size: 0.6rem;\n",
              "  font-weight: lighter;\n",
              "  color: var(--sklearn-color-text-muted);\n",
              "}\n",
              "\n",
              "#sk-container-id-1 label.sk-toggleable__label-arrow:before {\n",
              "  /* Arrow on the left of the label */\n",
              "  content: \"▸\";\n",
              "  float: left;\n",
              "  margin-right: 0.25em;\n",
              "  color: var(--sklearn-color-icon);\n",
              "}\n",
              "\n",
              "#sk-container-id-1 label.sk-toggleable__label-arrow:hover:before {\n",
              "  color: var(--sklearn-color-text);\n",
              "}\n",
              "\n",
              "/* Toggleable content - dropdown */\n",
              "\n",
              "#sk-container-id-1 div.sk-toggleable__content {\n",
              "  max-height: 0;\n",
              "  max-width: 0;\n",
              "  overflow: hidden;\n",
              "  text-align: left;\n",
              "  /* unfitted */\n",
              "  background-color: var(--sklearn-color-unfitted-level-0);\n",
              "}\n",
              "\n",
              "#sk-container-id-1 div.sk-toggleable__content.fitted {\n",
              "  /* fitted */\n",
              "  background-color: var(--sklearn-color-fitted-level-0);\n",
              "}\n",
              "\n",
              "#sk-container-id-1 div.sk-toggleable__content pre {\n",
              "  margin: 0.2em;\n",
              "  border-radius: 0.25em;\n",
              "  color: var(--sklearn-color-text);\n",
              "  /* unfitted */\n",
              "  background-color: var(--sklearn-color-unfitted-level-0);\n",
              "}\n",
              "\n",
              "#sk-container-id-1 div.sk-toggleable__content.fitted pre {\n",
              "  /* unfitted */\n",
              "  background-color: var(--sklearn-color-fitted-level-0);\n",
              "}\n",
              "\n",
              "#sk-container-id-1 input.sk-toggleable__control:checked~div.sk-toggleable__content {\n",
              "  /* Expand drop-down */\n",
              "  max-height: 200px;\n",
              "  max-width: 100%;\n",
              "  overflow: auto;\n",
              "}\n",
              "\n",
              "#sk-container-id-1 input.sk-toggleable__control:checked~label.sk-toggleable__label-arrow:before {\n",
              "  content: \"▾\";\n",
              "}\n",
              "\n",
              "/* Pipeline/ColumnTransformer-specific style */\n",
              "\n",
              "#sk-container-id-1 div.sk-label input.sk-toggleable__control:checked~label.sk-toggleable__label {\n",
              "  color: var(--sklearn-color-text);\n",
              "  background-color: var(--sklearn-color-unfitted-level-2);\n",
              "}\n",
              "\n",
              "#sk-container-id-1 div.sk-label.fitted input.sk-toggleable__control:checked~label.sk-toggleable__label {\n",
              "  background-color: var(--sklearn-color-fitted-level-2);\n",
              "}\n",
              "\n",
              "/* Estimator-specific style */\n",
              "\n",
              "/* Colorize estimator box */\n",
              "#sk-container-id-1 div.sk-estimator input.sk-toggleable__control:checked~label.sk-toggleable__label {\n",
              "  /* unfitted */\n",
              "  background-color: var(--sklearn-color-unfitted-level-2);\n",
              "}\n",
              "\n",
              "#sk-container-id-1 div.sk-estimator.fitted input.sk-toggleable__control:checked~label.sk-toggleable__label {\n",
              "  /* fitted */\n",
              "  background-color: var(--sklearn-color-fitted-level-2);\n",
              "}\n",
              "\n",
              "#sk-container-id-1 div.sk-label label.sk-toggleable__label,\n",
              "#sk-container-id-1 div.sk-label label {\n",
              "  /* The background is the default theme color */\n",
              "  color: var(--sklearn-color-text-on-default-background);\n",
              "}\n",
              "\n",
              "/* On hover, darken the color of the background */\n",
              "#sk-container-id-1 div.sk-label:hover label.sk-toggleable__label {\n",
              "  color: var(--sklearn-color-text);\n",
              "  background-color: var(--sklearn-color-unfitted-level-2);\n",
              "}\n",
              "\n",
              "/* Label box, darken color on hover, fitted */\n",
              "#sk-container-id-1 div.sk-label.fitted:hover label.sk-toggleable__label.fitted {\n",
              "  color: var(--sklearn-color-text);\n",
              "  background-color: var(--sklearn-color-fitted-level-2);\n",
              "}\n",
              "\n",
              "/* Estimator label */\n",
              "\n",
              "#sk-container-id-1 div.sk-label label {\n",
              "  font-family: monospace;\n",
              "  font-weight: bold;\n",
              "  display: inline-block;\n",
              "  line-height: 1.2em;\n",
              "}\n",
              "\n",
              "#sk-container-id-1 div.sk-label-container {\n",
              "  text-align: center;\n",
              "}\n",
              "\n",
              "/* Estimator-specific */\n",
              "#sk-container-id-1 div.sk-estimator {\n",
              "  font-family: monospace;\n",
              "  border: 1px dotted var(--sklearn-color-border-box);\n",
              "  border-radius: 0.25em;\n",
              "  box-sizing: border-box;\n",
              "  margin-bottom: 0.5em;\n",
              "  /* unfitted */\n",
              "  background-color: var(--sklearn-color-unfitted-level-0);\n",
              "}\n",
              "\n",
              "#sk-container-id-1 div.sk-estimator.fitted {\n",
              "  /* fitted */\n",
              "  background-color: var(--sklearn-color-fitted-level-0);\n",
              "}\n",
              "\n",
              "/* on hover */\n",
              "#sk-container-id-1 div.sk-estimator:hover {\n",
              "  /* unfitted */\n",
              "  background-color: var(--sklearn-color-unfitted-level-2);\n",
              "}\n",
              "\n",
              "#sk-container-id-1 div.sk-estimator.fitted:hover {\n",
              "  /* fitted */\n",
              "  background-color: var(--sklearn-color-fitted-level-2);\n",
              "}\n",
              "\n",
              "/* Specification for estimator info (e.g. \"i\" and \"?\") */\n",
              "\n",
              "/* Common style for \"i\" and \"?\" */\n",
              "\n",
              ".sk-estimator-doc-link,\n",
              "a:link.sk-estimator-doc-link,\n",
              "a:visited.sk-estimator-doc-link {\n",
              "  float: right;\n",
              "  font-size: smaller;\n",
              "  line-height: 1em;\n",
              "  font-family: monospace;\n",
              "  background-color: var(--sklearn-color-background);\n",
              "  border-radius: 1em;\n",
              "  height: 1em;\n",
              "  width: 1em;\n",
              "  text-decoration: none !important;\n",
              "  margin-left: 0.5em;\n",
              "  text-align: center;\n",
              "  /* unfitted */\n",
              "  border: var(--sklearn-color-unfitted-level-1) 1pt solid;\n",
              "  color: var(--sklearn-color-unfitted-level-1);\n",
              "}\n",
              "\n",
              ".sk-estimator-doc-link.fitted,\n",
              "a:link.sk-estimator-doc-link.fitted,\n",
              "a:visited.sk-estimator-doc-link.fitted {\n",
              "  /* fitted */\n",
              "  border: var(--sklearn-color-fitted-level-1) 1pt solid;\n",
              "  color: var(--sklearn-color-fitted-level-1);\n",
              "}\n",
              "\n",
              "/* On hover */\n",
              "div.sk-estimator:hover .sk-estimator-doc-link:hover,\n",
              ".sk-estimator-doc-link:hover,\n",
              "div.sk-label-container:hover .sk-estimator-doc-link:hover,\n",
              ".sk-estimator-doc-link:hover {\n",
              "  /* unfitted */\n",
              "  background-color: var(--sklearn-color-unfitted-level-3);\n",
              "  color: var(--sklearn-color-background);\n",
              "  text-decoration: none;\n",
              "}\n",
              "\n",
              "div.sk-estimator.fitted:hover .sk-estimator-doc-link.fitted:hover,\n",
              ".sk-estimator-doc-link.fitted:hover,\n",
              "div.sk-label-container:hover .sk-estimator-doc-link.fitted:hover,\n",
              ".sk-estimator-doc-link.fitted:hover {\n",
              "  /* fitted */\n",
              "  background-color: var(--sklearn-color-fitted-level-3);\n",
              "  color: var(--sklearn-color-background);\n",
              "  text-decoration: none;\n",
              "}\n",
              "\n",
              "/* Span, style for the box shown on hovering the info icon */\n",
              ".sk-estimator-doc-link span {\n",
              "  display: none;\n",
              "  z-index: 9999;\n",
              "  position: relative;\n",
              "  font-weight: normal;\n",
              "  right: .2ex;\n",
              "  padding: .5ex;\n",
              "  margin: .5ex;\n",
              "  width: min-content;\n",
              "  min-width: 20ex;\n",
              "  max-width: 50ex;\n",
              "  color: var(--sklearn-color-text);\n",
              "  box-shadow: 2pt 2pt 4pt #999;\n",
              "  /* unfitted */\n",
              "  background: var(--sklearn-color-unfitted-level-0);\n",
              "  border: .5pt solid var(--sklearn-color-unfitted-level-3);\n",
              "}\n",
              "\n",
              ".sk-estimator-doc-link.fitted span {\n",
              "  /* fitted */\n",
              "  background: var(--sklearn-color-fitted-level-0);\n",
              "  border: var(--sklearn-color-fitted-level-3);\n",
              "}\n",
              "\n",
              ".sk-estimator-doc-link:hover span {\n",
              "  display: block;\n",
              "}\n",
              "\n",
              "/* \"?\"-specific style due to the `<a>` HTML tag */\n",
              "\n",
              "#sk-container-id-1 a.estimator_doc_link {\n",
              "  float: right;\n",
              "  font-size: 1rem;\n",
              "  line-height: 1em;\n",
              "  font-family: monospace;\n",
              "  background-color: var(--sklearn-color-background);\n",
              "  border-radius: 1rem;\n",
              "  height: 1rem;\n",
              "  width: 1rem;\n",
              "  text-decoration: none;\n",
              "  /* unfitted */\n",
              "  color: var(--sklearn-color-unfitted-level-1);\n",
              "  border: var(--sklearn-color-unfitted-level-1) 1pt solid;\n",
              "}\n",
              "\n",
              "#sk-container-id-1 a.estimator_doc_link.fitted {\n",
              "  /* fitted */\n",
              "  border: var(--sklearn-color-fitted-level-1) 1pt solid;\n",
              "  color: var(--sklearn-color-fitted-level-1);\n",
              "}\n",
              "\n",
              "/* On hover */\n",
              "#sk-container-id-1 a.estimator_doc_link:hover {\n",
              "  /* unfitted */\n",
              "  background-color: var(--sklearn-color-unfitted-level-3);\n",
              "  color: var(--sklearn-color-background);\n",
              "  text-decoration: none;\n",
              "}\n",
              "\n",
              "#sk-container-id-1 a.estimator_doc_link.fitted:hover {\n",
              "  /* fitted */\n",
              "  background-color: var(--sklearn-color-fitted-level-3);\n",
              "}\n",
              "</style><div id=\"sk-container-id-1\" class=\"sk-top-container\"><div class=\"sk-text-repr-fallback\"><pre>RandomizedSearchCV(cv=2,\n",
              "                   estimator=MLPClassifier(early_stopping=True, max_iter=300,\n",
              "                                           random_state=42),\n",
              "                   n_iter=20, n_jobs=-1,\n",
              "                   param_distributions={&#x27;activation&#x27;: [&#x27;relu&#x27;, &#x27;tanh&#x27;],\n",
              "                                        &#x27;alpha&#x27;: [0.0001, 0.001],\n",
              "                                        &#x27;hidden_layer_sizes&#x27;: [(64,), (128,),\n",
              "                                                               (64, 64)],\n",
              "                                        &#x27;learning_rate_init&#x27;: [0.001, 0.01],\n",
              "                                        &#x27;solver&#x27;: [&#x27;adam&#x27;]},\n",
              "                   random_state=42, scoring=&#x27;roc_auc&#x27;, verbose=2)</pre><b>In a Jupyter environment, please rerun this cell to show the HTML representation or trust the notebook. <br />On GitHub, the HTML representation is unable to render, please try loading this page with nbviewer.org.</b></div><div class=\"sk-container\" hidden><div class=\"sk-item sk-dashed-wrapped\"><div class=\"sk-label-container\"><div class=\"sk-label fitted sk-toggleable\"><input class=\"sk-toggleable__control sk-hidden--visually\" id=\"sk-estimator-id-1\" type=\"checkbox\" ><label for=\"sk-estimator-id-1\" class=\"sk-toggleable__label fitted sk-toggleable__label-arrow\"><div><div>RandomizedSearchCV</div></div><div><a class=\"sk-estimator-doc-link fitted\" rel=\"noreferrer\" target=\"_blank\" href=\"https://scikit-learn.org/1.6/modules/generated/sklearn.model_selection.RandomizedSearchCV.html\">?<span>Documentation for RandomizedSearchCV</span></a><span class=\"sk-estimator-doc-link fitted\">i<span>Fitted</span></span></div></label><div class=\"sk-toggleable__content fitted\"><pre>RandomizedSearchCV(cv=2,\n",
              "                   estimator=MLPClassifier(early_stopping=True, max_iter=300,\n",
              "                                           random_state=42),\n",
              "                   n_iter=20, n_jobs=-1,\n",
              "                   param_distributions={&#x27;activation&#x27;: [&#x27;relu&#x27;, &#x27;tanh&#x27;],\n",
              "                                        &#x27;alpha&#x27;: [0.0001, 0.001],\n",
              "                                        &#x27;hidden_layer_sizes&#x27;: [(64,), (128,),\n",
              "                                                               (64, 64)],\n",
              "                                        &#x27;learning_rate_init&#x27;: [0.001, 0.01],\n",
              "                                        &#x27;solver&#x27;: [&#x27;adam&#x27;]},\n",
              "                   random_state=42, scoring=&#x27;roc_auc&#x27;, verbose=2)</pre></div> </div></div><div class=\"sk-parallel\"><div class=\"sk-parallel-item\"><div class=\"sk-item\"><div class=\"sk-label-container\"><div class=\"sk-label fitted sk-toggleable\"><input class=\"sk-toggleable__control sk-hidden--visually\" id=\"sk-estimator-id-2\" type=\"checkbox\" ><label for=\"sk-estimator-id-2\" class=\"sk-toggleable__label fitted sk-toggleable__label-arrow\"><div><div>best_estimator_: MLPClassifier</div></div></label><div class=\"sk-toggleable__content fitted\"><pre>MLPClassifier(early_stopping=True, hidden_layer_sizes=(64, 64),\n",
              "              learning_rate_init=0.01, max_iter=300, random_state=42)</pre></div> </div></div><div class=\"sk-serial\"><div class=\"sk-item\"><div class=\"sk-estimator fitted sk-toggleable\"><input class=\"sk-toggleable__control sk-hidden--visually\" id=\"sk-estimator-id-3\" type=\"checkbox\" ><label for=\"sk-estimator-id-3\" class=\"sk-toggleable__label fitted sk-toggleable__label-arrow\"><div><div>MLPClassifier</div></div><div><a class=\"sk-estimator-doc-link fitted\" rel=\"noreferrer\" target=\"_blank\" href=\"https://scikit-learn.org/1.6/modules/generated/sklearn.neural_network.MLPClassifier.html\">?<span>Documentation for MLPClassifier</span></a></div></label><div class=\"sk-toggleable__content fitted\"><pre>MLPClassifier(early_stopping=True, hidden_layer_sizes=(64, 64),\n",
              "              learning_rate_init=0.01, max_iter=300, random_state=42)</pre></div> </div></div></div></div></div></div></div></div></div>"
            ]
          },
          "metadata": {},
          "execution_count": 43
        }
      ]
    },
    {
      "cell_type": "code",
      "source": [
        "# Retrieve the best parameters\n",
        "best_params_mlp = random_search.best_params_\n",
        "print(\"\\nBest Parameters Found for MLPClassifier:\")\n",
        "print(best_params_mlp)"
      ],
      "metadata": {
        "colab": {
          "base_uri": "https://localhost:8080/"
        },
        "id": "sg2nsRNRD6ij",
        "outputId": "99559daa-33bd-47cc-8102-555c6bb7ef56"
      },
      "execution_count": 44,
      "outputs": [
        {
          "output_type": "stream",
          "name": "stdout",
          "text": [
            "\n",
            "Best Parameters Found for MLPClassifier:\n",
            "{'solver': 'adam', 'learning_rate_init': 0.01, 'hidden_layer_sizes': (64, 64), 'alpha': 0.0001, 'activation': 'relu'}\n"
          ]
        }
      ]
    },
    {
      "cell_type": "code",
      "source": [
        "# Train and Evaluate Tuned MLPClassifier\n",
        "# Initialize the MLPClassifier with the best parameters and early stopping\n",
        "mlp_tuned = MLPClassifier(\n",
        "    hidden_layer_sizes=best_params_mlp['hidden_layer_sizes'],\n",
        "    activation=best_params_mlp['activation'],\n",
        "    solver=best_params_mlp['solver'],\n",
        "    alpha=best_params_mlp['alpha'],\n",
        "    learning_rate_init=best_params_mlp['learning_rate_init'],\n",
        "    max_iter=300,\n",
        "    random_state=42,\n",
        "    early_stopping=True,\n",
        "    n_iter_no_change=10,\n",
        "    validation_fraction=0.1\n",
        ")\n",
        "\n",
        "# Train the tuned model on the training data\n",
        "mlp_tuned.fit(X_train, y_train)\n",
        "print(\"\\nTuned MLPClassifier model has been trained.\")\n",
        "\n",
        "# Make predictions on the test set\n",
        "mlp_tuned_pred_test = mlp_tuned.predict(X_test)\n",
        "\n",
        "# Make predictions on the training set\n",
        "mlp_tuned_pred_train = mlp_tuned.predict(X_train)\n",
        "\n",
        "# Calculate evaluation metrics for the tuned model (test set)\n",
        "mlp_tuned_accuracy_test = accuracy_score(y_test, mlp_tuned_pred_test)\n",
        "mlp_tuned_recall_test = recall_score(y_test, mlp_tuned_pred_test)\n",
        "mlp_tuned_precision_test = precision_score(y_test, mlp_tuned_pred_test)\n",
        "mlp_tuned_f1_test = f1_score(y_test, mlp_tuned_pred_test)\n",
        "mlp_tuned_auc_test = roc_auc_score(y_test, mlp_tuned.predict_proba(X_test)[:,1])\n",
        "\n",
        "# Calculate evaluation metrics for the tuned model (training set)\n",
        "mlp_tuned_accuracy_train = accuracy_score(y_train, mlp_tuned_pred_train)\n",
        "mlp_tuned_recall_train = recall_score(y_train, mlp_tuned_pred_train)\n",
        "mlp_tuned_precision_train = precision_score(y_train, mlp_tuned_pred_train)\n",
        "mlp_tuned_f1_train = f1_score(y_train, mlp_tuned_pred_train)\n",
        "mlp_tuned_auc_train = roc_auc_score(y_train, mlp_tuned.predict_proba(X_train)[:,1])\n"
      ],
      "metadata": {
        "colab": {
          "base_uri": "https://localhost:8080/"
        },
        "id": "DEddmZ9qGI4n",
        "outputId": "7c6ba009-5923-41a9-c1d6-dbb7775ef430"
      },
      "execution_count": 45,
      "outputs": [
        {
          "output_type": "stream",
          "name": "stdout",
          "text": [
            "\n",
            "Tuned MLPClassifier model has been trained.\n"
          ]
        }
      ]
    },
    {
      "cell_type": "code",
      "source": [
        "# Display evaluation metrics for the tuned model (training set)\n",
        "print(\"\\n=========================\")\n",
        "print(\"TUNED MLPCLASSIFIER TRAINING SET RESULTS\")\n",
        "print(\"=========================\")\n",
        "print(f\"Training Accuracy: {mlp_tuned_accuracy_train:.4f}\")\n",
        "print(f\"Training Recall: {mlp_tuned_recall_train:.4f}\")\n",
        "print(f\"Training Precision: {mlp_tuned_precision_train:.4f}\")\n",
        "print(f\"Training F1-Score: {mlp_tuned_f1_train:.4f}\")\n",
        "print(f\"Training AUC-ROC: {mlp_tuned_auc_train:.4f}\")\n",
        "print(\"\\nTraining Confusion Matrix:\")\n",
        "print(confusion_matrix(y_train, mlp_tuned_pred_train))\n",
        "print(\"\\nTraining Classification Report:\")\n",
        "print(classification_report(y_train, mlp_tuned_pred_train))"
      ],
      "metadata": {
        "colab": {
          "base_uri": "https://localhost:8080/"
        },
        "id": "3dZD-cVfGYsO",
        "outputId": "47f7b816-5141-4e72-8aaf-e93173fffa78"
      },
      "execution_count": 46,
      "outputs": [
        {
          "output_type": "stream",
          "name": "stdout",
          "text": [
            "\n",
            "=========================\n",
            "TUNED MLPCLASSIFIER TRAINING SET RESULTS\n",
            "=========================\n",
            "Training Accuracy: 0.9279\n",
            "Training Recall: 0.8831\n",
            "Training Precision: 0.9700\n",
            "Training F1-Score: 0.9245\n",
            "Training AUC-ROC: 0.9690\n",
            "\n",
            "Training Confusion Matrix:\n",
            "[[31066   871]\n",
            " [ 3733 28205]]\n",
            "\n",
            "Training Classification Report:\n",
            "              precision    recall  f1-score   support\n",
            "\n",
            "           0       0.89      0.97      0.93     31937\n",
            "           1       0.97      0.88      0.92     31938\n",
            "\n",
            "    accuracy                           0.93     63875\n",
            "   macro avg       0.93      0.93      0.93     63875\n",
            "weighted avg       0.93      0.93      0.93     63875\n",
            "\n"
          ]
        }
      ]
    },
    {
      "cell_type": "code",
      "source": [
        "# Display evaluation metrics for the tuned model (test set)\n",
        "print(\"\\n=========================\")\n",
        "print(\"TUNED MLPCLASSIFIER TEST SET RESULTS\")\n",
        "print(\"=========================\")\n",
        "print(f\"Test Accuracy: {mlp_tuned_accuracy_test:.4f}\")\n",
        "print(f\"Test Recall: {mlp_tuned_recall_test:.4f}\")\n",
        "print(f\"Test Precision: {mlp_tuned_precision_test:.4f}\")\n",
        "print(f\"Test F1-Score: {mlp_tuned_f1_test:.4f}\")\n",
        "print(f\"Test AUC-ROC: {mlp_tuned_auc_test:.4f}\")\n",
        "print(\"\\nTest Confusion Matrix:\")\n",
        "print(confusion_matrix(y_test, mlp_tuned_pred_test))\n",
        "print(\"\\nTest Classification Report:\")\n",
        "print(classification_report(y_test, mlp_tuned_pred_test))"
      ],
      "metadata": {
        "colab": {
          "base_uri": "https://localhost:8080/"
        },
        "id": "zgzNS_3KGglB",
        "outputId": "fcd2f1a0-4c90-4d6f-fa28-8926de1c8dbe"
      },
      "execution_count": 47,
      "outputs": [
        {
          "output_type": "stream",
          "name": "stdout",
          "text": [
            "\n",
            "=========================\n",
            "TUNED MLPCLASSIFIER TEST SET RESULTS\n",
            "=========================\n",
            "Test Accuracy: 0.9213\n",
            "Test Recall: 0.8758\n",
            "Test Precision: 0.9635\n",
            "Test F1-Score: 0.9175\n",
            "Test AUC-ROC: 0.9620\n",
            "\n",
            "Test Confusion Matrix:\n",
            "[[7720  265]\n",
            " [ 992 6992]]\n",
            "\n",
            "Test Classification Report:\n",
            "              precision    recall  f1-score   support\n",
            "\n",
            "           0       0.89      0.97      0.92      7985\n",
            "           1       0.96      0.88      0.92      7984\n",
            "\n",
            "    accuracy                           0.92     15969\n",
            "   macro avg       0.92      0.92      0.92     15969\n",
            "weighted avg       0.92      0.92      0.92     15969\n",
            "\n"
          ]
        }
      ]
    },
    {
      "cell_type": "code",
      "source": [
        "# Compare Default and Tuned MLPClassifier Models\n",
        "# Create a DataFrame to compare metrics\n",
        "mlp_metrics_comparison = pd.DataFrame({\n",
        "    'Metric': ['Accuracy', 'Recall', 'Precision', 'F1-Score', 'AUC-ROC'],\n",
        "    'Default MLP': [mlp_default_accuracy_test, mlp_default_recall_test, mlp_default_precision_test, mlp_default_f1_test, mlp_default_auc_test],\n",
        "    'Tuned MLP': [mlp_tuned_accuracy_test, mlp_tuned_recall_test, mlp_tuned_precision_test, mlp_tuned_f1_test, mlp_tuned_auc_test]\n",
        "})\n",
        "\n",
        "print(\"\\nComparison of Default and Tuned MLPClassifier Models:\")\n",
        "print(mlp_metrics_comparison)\n"
      ],
      "metadata": {
        "colab": {
          "base_uri": "https://localhost:8080/"
        },
        "id": "Bdz-3pm7GkPF",
        "outputId": "79f9683d-f68f-49ba-e8f8-2fbb4e9ef1cc"
      },
      "execution_count": 48,
      "outputs": [
        {
          "output_type": "stream",
          "name": "stdout",
          "text": [
            "\n",
            "Comparison of Default and Tuned MLPClassifier Models:\n",
            "      Metric  Default MLP  Tuned MLP\n",
            "0   Accuracy     0.921911   0.921285\n",
            "1     Recall     0.882640   0.875752\n",
            "2  Precision     0.957863   0.963484\n",
            "3   F1-Score     0.918715   0.917525\n",
            "4    AUC-ROC     0.962059   0.962023\n"
          ]
        }
      ]
    },
    {
      "cell_type": "code",
      "source": [
        "# Plot comparison\n",
        "mlp_metrics_melted = mlp_metrics_comparison.melt(id_vars='Metric', var_name='Model', value_name='Score')\n",
        "\n",
        "plt.figure(figsize=(10, 6))\n",
        "sns.barplot(x='Metric', y='Score', hue='Model', data=mlp_metrics_melted, palette='Set2')\n",
        "plt.title('Comparison of Default vs Tuned MLPClassifier Models')\n",
        "plt.ylim(0,1)\n",
        "plt.legend(title='Model')\n",
        "plt.show()"
      ],
      "metadata": {
        "colab": {
          "base_uri": "https://localhost:8080/",
          "height": 564
        },
        "id": "yx6lHs_-GuoJ",
        "outputId": "e4f7a917-3b20-4f36-e89d-17bd5d823ef2"
      },
      "execution_count": 49,
      "outputs": [
        {
          "output_type": "display_data",
          "data": {
            "text/plain": [
              "<Figure size 1000x600 with 1 Axes>"
            ],
            "image/png": "[encoded data removed]"
          },
          "metadata": {}
        }
      ]
    },
    {
      "cell_type": "code",
      "source": [
        "import matplotlib.pyplot as plt\n",
        "import seaborn as sns\n",
        "from sklearn.metrics import confusion_matrix\n",
        "\n",
        "def plot_confusion_matrices(y_train_true, y_train_pred, y_test_true, y_test_pred, model_name=\"Model\"):\n",
        "    \"\"\"\n",
        "    Plot training and testing confusion matrices side-by-side for a given model.\n",
        "\n",
        "    Parameters:\n",
        "    -----------\n",
        "    y_train_true : array-like\n",
        "        Actual (true) labels from the training set.\n",
        "    y_train_pred : array-like\n",
        "        Predicted labels from the training set by the model.\n",
        "    y_test_true  : array-like\n",
        "        Actual (true) labels from the testing set.\n",
        "    y_test_pred  : array-like\n",
        "        Predicted labels from the testing set by the model.\n",
        "    model_name   : str, optional (default=\"Model\")\n",
        "        Name of the model, used in plot titles.\n",
        "\n",
        "    Returns:\n",
        "    --------\n",
        "    None\n",
        "        Displays two confusion matrices side by side using matplotlib.\n",
        "    \"\"\"\n",
        "\n",
        "    # Generate confusion matrices\n",
        "    cm_train = confusion_matrix(y_train_true, y_train_pred)\n",
        "    cm_test = confusion_matrix(y_test_true, y_test_pred)\n",
        "\n",
        "    # Create figure with two subplots\n",
        "    fig, axes = plt.subplots(nrows=1, ncols=2, figsize=(12, 5))\n",
        "\n",
        "    # Training confusion matrix\n",
        "    sns.heatmap(\n",
        "        cm_train,\n",
        "        annot=True,\n",
        "        fmt=\"d\",\n",
        "        cmap=\"Blues\",\n",
        "        ax=axes[0],\n",
        "        cbar=False\n",
        "    )\n",
        "    axes[0].set_title(f\"{model_name} - Training Confusion Matrix\")\n",
        "    axes[0].set_xlabel(\"Predicted Labels\")\n",
        "    axes[0].set_ylabel(\"True Labels\")\n",
        "\n",
        "    # Testing confusion matrix\n",
        "    sns.heatmap(\n",
        "        cm_test,\n",
        "        annot=True,\n",
        "        fmt=\"d\",\n",
        "        cmap=\"Reds\",\n",
        "        ax=axes[1],\n",
        "        cbar=False\n",
        "    )\n",
        "    axes[1].set_title(f\"{model_name} - Testing Confusion Matrix\")\n",
        "    axes[1].set_xlabel(\"Predicted Labels\")\n",
        "    axes[1].set_ylabel(\"True Labels\")\n",
        "\n",
        "    plt.tight_layout()\n",
        "    plt.show()\n",
        "\n",
        "\n",
        "# For Random Forest Model\n",
        "plot_confusion_matrices(\n",
        "    y_train_true=y_train,\n",
        "    y_train_pred=rf_default_pred_train,\n",
        "    y_test_true=y_test,\n",
        "    y_test_pred=rf_default_pred_test,\n",
        "    model_name=\"Random Forest (Default)\"\n",
        ")\n",
        "\n",
        "# For Tuned Random Forest Model\n",
        "plot_confusion_matrices(\n",
        "    y_train_true=y_train,\n",
        "    y_train_pred=rf_final_pred_train,\n",
        "    y_test_true=y_test,\n",
        "    y_test_pred=rf_final_pred_test,\n",
        "    model_name=\"Random Forest (Tuned)\"\n",
        ")\n",
        "\n",
        "# For Default MLPClassifier Model\n",
        "plot_confusion_matrices(\n",
        "    y_train_true=y_train,\n",
        "    y_train_pred=mlp_default_pred_train,\n",
        "    y_test_true=y_test,\n",
        "    y_test_pred=mlp_default_pred_test,\n",
        "    model_name=\"MLPClassifier (Default)\"\n",
        ")\n",
        "\n",
        "# For Tuned MLPClassifier Model\n",
        "plot_confusion_matrices(\n",
        "    y_train_true=y_train,\n",
        "    y_train_pred=mlp_tuned_pred_train,\n",
        "    y_test_true=y_test,\n",
        "    y_test_pred=mlp_tuned_pred_test,\n",
        "    model_name=\"MLPClassifier (Tuned)\"\n",
        ")\n"
      ],
      "metadata": {
        "colab": {
          "base_uri": "https://localhost:8080/",
          "height": 1000
        },
        "id": "mSSjmj86mr_8",
        "outputId": "602557dc-3f0e-4e4e-d841-bb0b795ad23d"
      },
      "execution_count": 50,
      "outputs": [
        {
          "output_type": "display_data",
          "data": {
            "text/plain": [
              "<Figure size 1200x500 with 2 Axes>"
            ],
            "image/png": "[encoded data removed]"
          },
          "metadata": {}
        },
        {
          "output_type": "display_data",
          "data": {
            "text/plain": [
              "<Figure size 1200x500 with 2 Axes>"
            ],
            "image/png": "[encoded data removed]"
          },
          "metadata": {}
        },
        {
          "output_type": "display_data",
          "data": {
            "text/plain": [
              "<Figure size 1200x500 with 2 Axes>"
            ],
            "image/png": "[encoded data removed]"
          },
          "metadata": {}
        },
        {
          "output_type": "display_data",
          "data": {
            "text/plain": [
              "<Figure size 1200x500 with 2 Axes>"
            ],
            "image/png": "[encoded data removed]"
          },
          "metadata": {}
        }
      ]
    }
  ]
}