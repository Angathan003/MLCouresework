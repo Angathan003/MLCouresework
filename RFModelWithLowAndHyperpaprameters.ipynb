{
  "nbformat": 4,
  "nbformat_minor": 0,
  "metadata": {
    "colab": {
      "provenance": []
    },
    "kernelspec": {
      "name": "python3",
      "display_name": "Python 3"
    },
    "language_info": {
      "name": "python"
    }
  },
  "cells": [
    {
      "cell_type": "code",
      "execution_count": 17,
      "metadata": {
        "id": "GSgKl28LV71Y"
      },
      "outputs": [],
      "source": [
        "# Download the dataset\n",
        "!wget -q https://archive.ics.uci.edu/ml/machine-learning-databases/00222/bank.zip\n",
        "\n",
        "# Unzip the dataset\n",
        "!unzip -o -q bank.zip\n"
      ]
    },
    {
      "cell_type": "code",
      "source": [
        "import pandas as pd\n",
        "import numpy as np\n",
        "import matplotlib.pyplot as plt\n",
        "import seaborn as sns\n",
        "\n",
        "from sklearn.model_selection import train_test_split, RandomizedSearchCV\n",
        "from sklearn.preprocessing import StandardScaler\n",
        "from sklearn.ensemble import RandomForestClassifier\n",
        "from sklearn.metrics import (\n",
        "    confusion_matrix,\n",
        "    classification_report,\n",
        "    accuracy_score,\n",
        "    recall_score,\n",
        "    precision_score,\n",
        "    f1_score,\n",
        "    roc_auc_score\n",
        ")"
      ],
      "metadata": {
        "id": "_8IqJz5oWUw7"
      },
      "execution_count": 18,
      "outputs": []
    },
    {
      "cell_type": "code",
      "source": [
        "# Install and import imblearn for SMOTE\n",
        "!pip install -q imblearn\n",
        "from imblearn.over_sampling import SMOTE"
      ],
      "metadata": {
        "id": "6cq5WxXeWcce"
      },
      "execution_count": 19,
      "outputs": []
    },
    {
      "cell_type": "code",
      "source": [
        "# Import TensorFlow and Keras for Neural Network\n",
        "!pip install -q tensorflow\n",
        "import tensorflow as tf\n",
        "from tensorflow.keras.models import Sequential\n",
        "from tensorflow.keras.layers import Dense, Dropout\n",
        "from tensorflow.keras.callbacks import EarlyStopping\n",
        "\n",
        "# For handling warnings\n",
        "import warnings\n",
        "warnings.filterwarnings('ignore')"
      ],
      "metadata": {
        "id": "FqkA5i5PWh6n"
      },
      "execution_count": 20,
      "outputs": []
    },
    {
      "cell_type": "code",
      "source": [
        "# Load and Preprocess the Data\n",
        "\n",
        "# Read the bank-full.csv\n",
        "data = pd.read_csv(\"bank-full.csv\", sep=';')\n",
        "\n",
        "# Display the first few rows\n",
        "print(\"First 5 rows of the dataset:\")\n",
        "print(data.head())\n",
        "\n",
        "# Display dataset information\n",
        "print(\"\\nDataset Information:\")\n",
        "print(data.info())\n",
        "\n",
        "# Display class distribution before preprocessing\n",
        "print(\"\\nClass Distribution Before Preprocessing:\")\n",
        "print(data['y'].value_counts())\n"
      ],
      "metadata": {
        "colab": {
          "base_uri": "https://localhost:8080/"
        },
        "id": "6rRK_NvwWl92",
        "outputId": "e748e8b5-4a6d-4ea2-ce40-031dad93157e"
      },
      "execution_count": 21,
      "outputs": [
        {
          "output_type": "stream",
          "name": "stdout",
          "text": [
            "First 5 rows of the dataset:\n",
            "   age           job  marital  education default  balance housing loan  \\\n",
            "0   58    management  married   tertiary      no     2143     yes   no   \n",
            "1   44    technician   single  secondary      no       29     yes   no   \n",
            "2   33  entrepreneur  married  secondary      no        2     yes  yes   \n",
            "3   47   blue-collar  married    unknown      no     1506     yes   no   \n",
            "4   33       unknown   single    unknown      no        1      no   no   \n",
            "\n",
            "   contact  day month  duration  campaign  pdays  previous poutcome   y  \n",
            "0  unknown    5   may       261         1     -1         0  unknown  no  \n",
            "1  unknown    5   may       151         1     -1         0  unknown  no  \n",
            "2  unknown    5   may        76         1     -1         0  unknown  no  \n",
            "3  unknown    5   may        92         1     -1         0  unknown  no  \n",
            "4  unknown    5   may       198         1     -1         0  unknown  no  \n",
            "\n",
            "Dataset Information:\n",
            "<class 'pandas.core.frame.DataFrame'>\n",
            "RangeIndex: 45211 entries, 0 to 45210\n",
            "Data columns (total 17 columns):\n",
            " #   Column     Non-Null Count  Dtype \n",
            "---  ------     --------------  ----- \n",
            " 0   age        45211 non-null  int64 \n",
            " 1   job        45211 non-null  object\n",
            " 2   marital    45211 non-null  object\n",
            " 3   education  45211 non-null  object\n",
            " 4   default    45211 non-null  object\n",
            " 5   balance    45211 non-null  int64 \n",
            " 6   housing    45211 non-null  object\n",
            " 7   loan       45211 non-null  object\n",
            " 8   contact    45211 non-null  object\n",
            " 9   day        45211 non-null  int64 \n",
            " 10  month      45211 non-null  object\n",
            " 11  duration   45211 non-null  int64 \n",
            " 12  campaign   45211 non-null  int64 \n",
            " 13  pdays      45211 non-null  int64 \n",
            " 14  previous   45211 non-null  int64 \n",
            " 15  poutcome   45211 non-null  object\n",
            " 16  y          45211 non-null  object\n",
            "dtypes: int64(7), object(10)\n",
            "memory usage: 5.9+ MB\n",
            "None\n",
            "\n",
            "Class Distribution Before Preprocessing:\n",
            "y\n",
            "no     39922\n",
            "yes     5289\n",
            "Name: count, dtype: int64\n"
          ]
        }
      ]
    },
    {
      "cell_type": "code",
      "source": [
        "# Drop 'duration' to Avoid Data Leakage\n",
        "\n",
        "# In realistic scenarios, 'duration' is unknown at the time of prediction.\n",
        "if 'duration' in data.columns:\n",
        "    data = data.drop(['duration'], axis=1)\n",
        "    print(\"\\n'Duration' column dropped to prevent data leakage.\")\n",
        "else:\n",
        "    print(\"\\n'Duration' column not found in the dataset.\")"
      ],
      "metadata": {
        "colab": {
          "base_uri": "https://localhost:8080/"
        },
        "id": "C1jE1jlyWxRu",
        "outputId": "9d8849ec-6e71-4d84-e4a8-2280ea680aad"
      },
      "execution_count": 22,
      "outputs": [
        {
          "output_type": "stream",
          "name": "stdout",
          "text": [
            "\n",
            "'Duration' column dropped to prevent data leakage.\n"
          ]
        }
      ]
    },
    {
      "cell_type": "code",
      "source": [
        "# Handle Missing Values\n",
        "# Check for missing values\n",
        "missing_values = data.isnull().sum()\n",
        "print(\"\\nMissing Values in Each Column:\")\n",
        "print(missing_values)\n",
        "\n",
        "# If missing values exist, handle them\n",
        "if missing_values.sum() > 0:\n",
        "    # For numerical columns, fill with median\n",
        "    numerical_cols = data.select_dtypes(include=[np.number]).columns\n",
        "    data[numerical_cols] = data[numerical_cols].fillna(data[numerical_cols].median())\n",
        "\n",
        "    # For categorical columns, fill with mode\n",
        "    categorical_cols = data.select_dtypes(include=['object']).columns\n",
        "    data[categorical_cols] = data[categorical_cols].fillna(data[categorical_cols].mode().iloc[0])\n",
        "    print(\"\\nMissing values have been handled.\")\n",
        "else:\n",
        "    print(\"\\nNo missing values found.\")\n"
      ],
      "metadata": {
        "colab": {
          "base_uri": "https://localhost:8080/"
        },
        "id": "jOCCsGMhW7dq",
        "outputId": "8a6c7814-8c64-4016-9783-9b383332badb"
      },
      "execution_count": 23,
      "outputs": [
        {
          "output_type": "stream",
          "name": "stdout",
          "text": [
            "\n",
            "Missing Values in Each Column:\n",
            "age          0\n",
            "job          0\n",
            "marital      0\n",
            "education    0\n",
            "default      0\n",
            "balance      0\n",
            "housing      0\n",
            "loan         0\n",
            "contact      0\n",
            "day          0\n",
            "month        0\n",
            "campaign     0\n",
            "pdays        0\n",
            "previous     0\n",
            "poutcome     0\n",
            "y            0\n",
            "dtype: int64\n",
            "\n",
            "No missing values found.\n"
          ]
        }
      ]
    },
    {
      "cell_type": "code",
      "source": [
        "# Outlier Detection and Handling for 'previous' Column\n",
        "# Detect and cap outliers in the 'previous' column using the IQR method\n",
        "if 'previous' in data.columns:\n",
        "    Q1 = data['previous'].quantile(0.25)\n",
        "    Q3 = data['previous'].quantile(0.75)\n",
        "    IQR = Q3 - Q1\n",
        "    lower_bound = Q1 - 1.5 * IQR\n",
        "    upper_bound = Q3 + 1.5 * IQR\n",
        "\n",
        "    # Capping the outliers\n",
        "    data['previous'] = np.where(data['previous'] < lower_bound, lower_bound, data['previous'])\n",
        "    data['previous'] = np.where(data['previous'] > upper_bound, upper_bound, data['previous'])\n",
        "    print(\"\\nOutliers in 'previous' column have been capped.\")\n",
        "else:\n",
        "    print(\"\\n'previous' column not found in the dataset.\")"
      ],
      "metadata": {
        "colab": {
          "base_uri": "https://localhost:8080/"
        },
        "id": "l4bNJj1bXMQ4",
        "outputId": "1f31bafe-611a-4c90-bba2-9d35b651ab78"
      },
      "execution_count": 24,
      "outputs": [
        {
          "output_type": "stream",
          "name": "stdout",
          "text": [
            "\n",
            "Outliers in 'previous' column have been capped.\n"
          ]
        }
      ]
    },
    {
      "cell_type": "code",
      "source": [
        "# Handle 'pdays' Column\n",
        "# 'pdays' - number of days that passed after the client was last contacted from a previous campaign\n",
        "# -1 indicates that the client was not previously contacted\n",
        "\n",
        "# Create a new binary feature indicating if the client was previously contacted\n",
        "data['previously_contacted'] = np.where(data['pdays'] == -1, 0, 1)\n",
        "\n",
        "# Replace -1 in 'pdays' with 0 for scaling purposes\n",
        "data['pdays'] = data['pdays'].replace(-1, 0)\n",
        "\n",
        "print(\"\\n'previously_contacted' feature created and 'pdays' values adjusted.\")\n"
      ],
      "metadata": {
        "colab": {
          "base_uri": "https://localhost:8080/"
        },
        "id": "WJN0Y4dSXW6W",
        "outputId": "27e866ae-bc1d-49d0-bce3-ebfd88f55c10"
      },
      "execution_count": 25,
      "outputs": [
        {
          "output_type": "stream",
          "name": "stdout",
          "text": [
            "\n",
            "'previously_contacted' feature created and 'pdays' values adjusted.\n"
          ]
        }
      ]
    },
    {
      "cell_type": "code",
      "source": [
        "# Feature Engineering on Numeric Columns\n",
        "# Define numeric columns\n",
        "numeric_cols = ['age', 'pdays', 'previous', 'balance', 'campaign', 'day']\n",
        "\n",
        "# Create new ratio-based features, handling potential division by zero\n",
        "data['age_balance_ratio'] = data['age'] / (data['balance'] + 1e-6)  # Adding a small constant to avoid division by zero\n",
        "data['campaign_balance_ratio'] = data['campaign'] / (data['balance'] + 1e-6)\n",
        "data['previous_campaign_ratio'] = data['previous'] / (data['campaign'] + 1e-6)\n",
        "\n",
        "print(\"\\nFeature engineering on numeric columns completed.\")"
      ],
      "metadata": {
        "colab": {
          "base_uri": "https://localhost:8080/"
        },
        "id": "CsHu2PMfXiB9",
        "outputId": "d5af60a0-cba1-485e-f86e-3cc36d2f73ae"
      },
      "execution_count": 26,
      "outputs": [
        {
          "output_type": "stream",
          "name": "stdout",
          "text": [
            "\n",
            "Feature engineering on numeric columns completed.\n"
          ]
        }
      ]
    },
    {
      "cell_type": "code",
      "source": [
        "# Encode Categorical Variables\n",
        "# Identify categorical columns (excluding the target variable 'y')\n",
        "categorical_cols = data.drop('y', axis=1).select_dtypes(include=['object']).columns\n",
        "print(\"\\nCategorical Columns:\", categorical_cols.tolist())\n",
        "\n",
        "# One-Hot Encoding for categorical variables\n",
        "X = pd.get_dummies(data.drop('y', axis=1), columns=categorical_cols, drop_first=True)\n",
        "print(\"\\nShape of feature matrix after one-hot encoding:\", X.shape)\n",
        "\n",
        "# Convert target variable to binary\n",
        "y = data['y'].map({'yes': 1, 'no': 0})\n",
        "\n",
        "# Display class distribution before SMOTE\n",
        "print(\"\\nClass Distribution Before SMOTE:\")\n",
        "print(y.value_counts())"
      ],
      "metadata": {
        "colab": {
          "base_uri": "https://localhost:8080/"
        },
        "id": "OvBfSIL7Xsey",
        "outputId": "09fb4d28-bff3-40d3-8094-a2c8db294288"
      },
      "execution_count": 28,
      "outputs": [
        {
          "output_type": "stream",
          "name": "stdout",
          "text": [
            "\n",
            "Categorical Columns: ['job', 'marital', 'education', 'default', 'housing', 'loan', 'contact', 'month', 'poutcome']\n",
            "\n",
            "Shape of feature matrix after one-hot encoding: (45211, 45)\n",
            "\n",
            "Class Distribution Before SMOTE:\n",
            "y\n",
            "0    39922\n",
            "1     5289\n",
            "Name: count, dtype: int64\n"
          ]
        }
      ]
    },
    {
      "cell_type": "code",
      "source": [
        "# Apply SMOTE for Oversampling Before Scaling\n",
        "smote = SMOTE(random_state=42)\n",
        "X_resampled, y_resampled = smote.fit_resample(X, y)\n",
        "\n",
        "print(\"\\nClass Distribution After SMOTE:\")\n",
        "print(pd.Series(y_resampled).value_counts())"
      ],
      "metadata": {
        "colab": {
          "base_uri": "https://localhost:8080/"
        },
        "id": "h3p5b3cIX6kt",
        "outputId": "e98df78b-30b8-4edc-9f3d-996d903d9033"
      },
      "execution_count": 29,
      "outputs": [
        {
          "output_type": "stream",
          "name": "stdout",
          "text": [
            "\n",
            "Class Distribution After SMOTE:\n",
            "y\n",
            "0    39922\n",
            "1    39922\n",
            "Name: count, dtype: int64\n"
          ]
        }
      ]
    },
    {
      "cell_type": "code",
      "source": [
        "# Scale Only Numerical Features\n",
        "# Define all numeric columns including the newly created features\n",
        "scaled_numeric_cols = [\n",
        "    'age', 'pdays', 'previous', 'balance', 'campaign', 'day',\n",
        "    'age_balance_ratio', 'campaign_balance_ratio', 'previous_campaign_ratio'\n",
        "]\n",
        "\n",
        "# Check if all scaled_numeric_cols are in X_resampled\n",
        "missing_scaled_numeric = set(scaled_numeric_cols) - set(X_resampled.columns)\n",
        "if missing_scaled_numeric:\n",
        "    print(f\"\\nWarning: The following numerical columns are missing and will be skipped for scaling: {missing_scaled_numeric}\")\n",
        "    scaled_numeric_cols = list(set(scaled_numeric_cols) - missing_scaled_numeric)\n",
        "else:\n",
        "    print(\"\\nAll numeric columns identified for scaling.\")\n"
      ],
      "metadata": {
        "colab": {
          "base_uri": "https://localhost:8080/"
        },
        "id": "-lZm_zytYE5P",
        "outputId": "30e9d61a-c207-4213-8e14-b282f78f67c9"
      },
      "execution_count": 30,
      "outputs": [
        {
          "output_type": "stream",
          "name": "stdout",
          "text": [
            "\n",
            "All numeric columns identified for scaling.\n"
          ]
        }
      ]
    },
    {
      "cell_type": "code",
      "source": [
        "# Extract numerical columns for scaling\n",
        "X_numerical = X_resampled[scaled_numeric_cols]\n",
        "\n",
        "# Initialize the scaler\n",
        "scaler = StandardScaler()\n",
        "\n",
        "# Fit and transform the numerical features\n",
        "X_numerical_scaled = scaler.fit_transform(X_numerical)\n",
        "\n",
        "# Create a DataFrame for scaled numerical features\n",
        "X_numerical_scaled_df = pd.DataFrame(\n",
        "    X_numerical_scaled,\n",
        "    columns=scaled_numeric_cols,\n",
        "    index=X_resampled.index\n",
        ")\n",
        "\n",
        "# Drop original numerical columns from X_resampled\n",
        "X_resampled = X_resampled.drop(columns=scaled_numeric_cols)\n",
        "\n",
        "# Concatenate scaled numerical features with the rest of the data\n",
        "X_resampled = pd.concat([X_resampled, X_numerical_scaled_df], axis=1)\n",
        "\n",
        "print(\"\\nShape of feature matrix after scaling numerical features:\", X_resampled.shape)\n"
      ],
      "metadata": {
        "colab": {
          "base_uri": "https://localhost:8080/"
        },
        "id": "4ntOClAeYSzA",
        "outputId": "0044bf84-d3ff-4a2d-a52a-b3456a625511"
      },
      "execution_count": 31,
      "outputs": [
        {
          "output_type": "stream",
          "name": "stdout",
          "text": [
            "\n",
            "Shape of feature matrix after scaling numerical features: (79844, 45)\n"
          ]
        }
      ]
    },
    {
      "cell_type": "code",
      "source": [
        "# Split the Data into Train and Test Sets\n",
        "X_final = X_resampled\n",
        "y_final = y_resampled\n",
        "\n",
        "X_train, X_test, y_train, y_test = train_test_split(\n",
        "    X_final, y_final,\n",
        "    test_size=0.2,  # 20% for testing\n",
        "    random_state=42,\n",
        "    stratify=y_final\n",
        ")\n",
        "\n",
        "print(\"\\nTraining Set Class Distribution:\")\n",
        "print(pd.Series(y_train).value_counts())\n",
        "print(\"\\nTesting Set Class Distribution:\")\n",
        "print(pd.Series(y_test).value_counts())"
      ],
      "metadata": {
        "colab": {
          "base_uri": "https://localhost:8080/"
        },
        "id": "zNIH-6FBYb17",
        "outputId": "7b7ee332-886f-4232-d618-01024b2dbd5e"
      },
      "execution_count": 32,
      "outputs": [
        {
          "output_type": "stream",
          "name": "stdout",
          "text": [
            "\n",
            "Training Set Class Distribution:\n",
            "y\n",
            "1    31938\n",
            "0    31937\n",
            "Name: count, dtype: int64\n",
            "\n",
            "Testing Set Class Distribution:\n",
            "y\n",
            "0    7985\n",
            "1    7984\n",
            "Name: count, dtype: int64\n"
          ]
        }
      ]
    },
    {
      "cell_type": "code",
      "source": [
        "# Train and Evaluate a Random Forest Model with Default Parameters\n",
        "# Initialize the Random Forest classifier with default parameters\n",
        "default_rf = RandomForestClassifier(random_state=42)\n",
        "\n",
        "# Train the model\n",
        "default_rf.fit(X_train, y_train)\n",
        "print(\"\\nDefault Random Forest model has been trained.\")\n",
        "\n",
        "# Make predictions on the test set\n",
        "rf_default_pred_test = default_rf.predict(X_test)\n",
        "\n",
        "# Make predictions on the training set\n",
        "rf_default_pred_train = default_rf.predict(X_train)\n"
      ],
      "metadata": {
        "colab": {
          "base_uri": "https://localhost:8080/"
        },
        "id": "mDE73dG45tHP",
        "outputId": "88c0b22e-5a23-46e8-869e-e245ca0bc874"
      },
      "execution_count": 49,
      "outputs": [
        {
          "output_type": "stream",
          "name": "stdout",
          "text": [
            "\n",
            "Default Random Forest model has been trained.\n"
          ]
        }
      ]
    },
    {
      "cell_type": "code",
      "source": [
        "# Calculate evaluation metrics for training set\n",
        "rf_default_accuracy_train = accuracy_score(y_train, rf_default_pred_train)\n",
        "rf_default_recall_train = recall_score(y_train, rf_default_pred_train)\n",
        "rf_default_precision_train = precision_score(y_train, rf_default_pred_train)\n",
        "rf_default_f1_train = f1_score(y_train, rf_default_pred_train)\n",
        "rf_default_auc_train = roc_auc_score(y_train, default_rf.predict_proba(X_train)[:,1])"
      ],
      "metadata": {
        "id": "OY9Oz5LJ6GMW"
      },
      "execution_count": 50,
      "outputs": []
    },
    {
      "cell_type": "code",
      "source": [
        "# Calculate evaluation metrics for test set\n",
        "rf_default_accuracy_test = accuracy_score(y_test, rf_default_pred_test)\n",
        "rf_default_recall_test = recall_score(y_test, rf_default_pred_test)\n",
        "rf_default_precision_test = precision_score(y_test, rf_default_pred_test)\n",
        "rf_default_f1_test = f1_score(y_test, rf_default_pred_test)\n",
        "rf_default_auc_test = roc_auc_score(y_test, default_rf.predict_proba(X_test)[:,1])"
      ],
      "metadata": {
        "id": "99bZyBW_6OH3"
      },
      "execution_count": 51,
      "outputs": []
    },
    {
      "cell_type": "code",
      "source": [
        "# Display evaluation metrics for training set\n",
        "print(\"\\n=========================\")\n",
        "print(\"DEFAULT RANDOM FOREST TRAINING SET RESULTS\")\n",
        "print(\"=========================\")\n",
        "print(f\"Training Accuracy: {rf_default_accuracy_train:.4f}\")\n",
        "print(f\"Training Recall: {rf_default_recall_train:.4f}\")\n",
        "print(f\"Training Precision: {rf_default_precision_train:.4f}\")\n",
        "print(f\"Training F1-Score: {rf_default_f1_train:.4f}\")\n",
        "print(f\"Training AUC-ROC: {rf_default_auc_train:.4f}\")\n",
        "print(\"\\nTraining Confusion Matrix:\")\n",
        "print(confusion_matrix(y_train, rf_default_pred_train))\n",
        "print(\"\\nTraining Classification Report:\")\n",
        "print(classification_report(y_train, rf_default_pred_train))"
      ],
      "metadata": {
        "colab": {
          "base_uri": "https://localhost:8080/"
        },
        "id": "-Ub8QHBB6ata",
        "outputId": "1071d3ca-8ff8-44ac-e31f-ad6c8c6d963f"
      },
      "execution_count": 53,
      "outputs": [
        {
          "output_type": "stream",
          "name": "stdout",
          "text": [
            "\n",
            "=========================\n",
            "DEFAULT RANDOM FOREST TRAINING SET RESULTS\n",
            "=========================\n",
            "Training Accuracy: 1.0000\n",
            "Training Recall: 1.0000\n",
            "Training Precision: 1.0000\n",
            "Training F1-Score: 1.0000\n",
            "Training AUC-ROC: 1.0000\n",
            "\n",
            "Training Confusion Matrix:\n",
            "[[31937     0]\n",
            " [    0 31938]]\n",
            "\n",
            "Training Classification Report:\n",
            "              precision    recall  f1-score   support\n",
            "\n",
            "           0       1.00      1.00      1.00     31937\n",
            "           1       1.00      1.00      1.00     31938\n",
            "\n",
            "    accuracy                           1.00     63875\n",
            "   macro avg       1.00      1.00      1.00     63875\n",
            "weighted avg       1.00      1.00      1.00     63875\n",
            "\n"
          ]
        }
      ]
    },
    {
      "cell_type": "code",
      "source": [
        "# Display evaluation metrics for test set\n",
        "print(\"\\n=========================\")\n",
        "print(\"DEFAULT RANDOM FOREST TEST SET RESULTS\")\n",
        "print(\"=========================\")\n",
        "print(f\"Test Accuracy: {rf_default_accuracy_test:.4f}\")\n",
        "print(f\"Test Recall: {rf_default_recall_test:.4f}\")\n",
        "print(f\"Test Precision: {rf_default_precision_test:.4f}\")\n",
        "print(f\"Test F1-Score: {rf_default_f1_test:.4f}\")\n",
        "print(f\"Test AUC-ROC: {rf_default_auc_test:.4f}\")\n",
        "print(\"\\nTest Confusion Matrix:\")\n",
        "print(confusion_matrix(y_test, rf_default_pred_test))\n",
        "print(\"\\nTest Classification Report:\")\n",
        "print(classification_report(y_test, rf_default_pred_test))"
      ],
      "metadata": {
        "colab": {
          "base_uri": "https://localhost:8080/"
        },
        "id": "ud7zgw0v6TSy",
        "outputId": "b5fa63ff-2df3-4111-f4fb-7989f3f7f204"
      },
      "execution_count": 52,
      "outputs": [
        {
          "output_type": "stream",
          "name": "stdout",
          "text": [
            "\n",
            "=========================\n",
            "DEFAULT RANDOM FOREST TEST SET RESULTS\n",
            "=========================\n",
            "Test Accuracy: 0.9356\n",
            "Test Recall: 0.9092\n",
            "Test Precision: 0.9599\n",
            "Test F1-Score: 0.9339\n",
            "Test AUC-ROC: 0.9758\n",
            "\n",
            "Test Confusion Matrix:\n",
            "[[7682  303]\n",
            " [ 725 7259]]\n",
            "\n",
            "Test Classification Report:\n",
            "              precision    recall  f1-score   support\n",
            "\n",
            "           0       0.91      0.96      0.94      7985\n",
            "           1       0.96      0.91      0.93      7984\n",
            "\n",
            "    accuracy                           0.94     15969\n",
            "   macro avg       0.94      0.94      0.94     15969\n",
            "weighted avg       0.94      0.94      0.94     15969\n",
            "\n"
          ]
        }
      ]
    },
    {
      "cell_type": "code",
      "source": [
        "# Hyperparameter Tuning for Random Forest using RandomizedSearchCV\n",
        "# Define the parameter grid for RandomizedSearchCV\n",
        "param_dist = {\n",
        "    'n_estimators': [100, 200],\n",
        "    'max_depth': [None, 10, 20, 30],\n",
        "    'min_samples_split': [2, 5, 10, 15],\n",
        "    'min_samples_leaf': [1, 2, 4, 6],\n",
        "    'max_features': ['auto', 'sqrt', 'log2'],\n",
        "    'bootstrap': [True, False]\n",
        "}\n",
        "\n",
        "# Initialize the Random Forest classifier\n",
        "rf = RandomForestClassifier(random_state=42)\n",
        "\n",
        "# Initialize RandomizedSearchCV\n",
        "random_search = RandomizedSearchCV(\n",
        "    estimator=rf,\n",
        "    param_distributions=param_dist,\n",
        "    n_iter=10,  # Number of parameter settings that are sampled\n",
        "    scoring='roc_auc',\n",
        "    cv=3,  # 3-fold cross-validation\n",
        "    verbose=2,\n",
        "    random_state=42,\n",
        "    n_jobs=-1  # Use all available cores\n",
        ")\n",
        "\n",
        "# Fit RandomizedSearchCV to the training data\n",
        "print(\"\\nStarting RandomizedSearchCV for Hyperparameter Tuning...\")\n",
        "random_search.fit(X_train, y_train)\n",
        "\n",
        "# Retrieve the best parameters\n",
        "best_params_rf = random_search.best_params_\n",
        "print(\"\\nBest Parameters Found for Random Forest:\")\n",
        "print(best_params_rf)"
      ],
      "metadata": {
        "colab": {
          "base_uri": "https://localhost:8080/"
        },
        "id": "8en0obFzYlOX",
        "outputId": "61ad32e6-17f2-40db-beba-a8c97955e459"
      },
      "execution_count": 34,
      "outputs": [
        {
          "output_type": "stream",
          "name": "stdout",
          "text": [
            "\n",
            "Starting RandomizedSearchCV for Hyperparameter Tuning...\n",
            "Fitting 3 folds for each of 10 candidates, totalling 30 fits\n",
            "\n",
            "Best Parameters Found for Random Forest:\n",
            "{'n_estimators': 100, 'min_samples_split': 10, 'min_samples_leaf': 1, 'max_features': 'sqrt', 'max_depth': 30, 'bootstrap': True}\n"
          ]
        }
      ]
    },
    {
      "cell_type": "code",
      "source": [
        "# Fit the Random Forest model with best parameters on the entire training set\n",
        "best_rf = RandomForestClassifier(\n",
        "    n_estimators=best_params_rf['n_estimators'],\n",
        "    max_depth=best_params_rf['max_depth'],\n",
        "    min_samples_split=best_params_rf['min_samples_split'],\n",
        "    min_samples_leaf=best_params_rf['min_samples_leaf'],\n",
        "    max_features=best_params_rf['max_features'],\n",
        "    bootstrap=best_params_rf['bootstrap'],\n",
        "    random_state=42\n",
        ")\n",
        "\n",
        "best_rf.fit(X_train, y_train)\n",
        "print(\"\\nRandom Forest model trained with best parameters.\")"
      ],
      "metadata": {
        "colab": {
          "base_uri": "https://localhost:8080/"
        },
        "id": "JCupXiQG0Zm7",
        "outputId": "3e87d2b1-df87-4b5d-db74-14511ee0a2f8"
      },
      "execution_count": 35,
      "outputs": [
        {
          "output_type": "stream",
          "name": "stdout",
          "text": [
            "\n",
            "Random Forest model trained with best parameters.\n"
          ]
        }
      ]
    },
    {
      "cell_type": "code",
      "source": [
        "# Extract feature importances\n",
        "importances = best_rf.feature_importances_\n",
        "feature_names = X_final.columns\n",
        "feature_importances = pd.DataFrame({\n",
        "    'Feature': feature_names,\n",
        "    'Importance': importances\n",
        "}).sort_values(by='Importance', ascending=False)\n",
        "\n",
        "# Display top 20 features\n",
        "top_features = feature_importances.head(20)\n",
        "print(\"\\nTop 20 Features based on Feature Importances:\")\n",
        "print(top_features)"
      ],
      "metadata": {
        "colab": {
          "base_uri": "https://localhost:8080/"
        },
        "id": "yoxQg22W0jlt",
        "outputId": "0887f2ef-4bb6-4617-c593-546294308371"
      },
      "execution_count": 36,
      "outputs": [
        {
          "output_type": "stream",
          "name": "stdout",
          "text": [
            "\n",
            "Top 20 Features based on Feature Importances:\n",
            "                Feature  Importance\n",
            "34     poutcome_success    0.090980\n",
            "15   education_tertiary    0.075693\n",
            "14  education_secondary    0.065052\n",
            "12      marital_married    0.063207\n",
            "39              balance    0.050765\n",
            "13       marital_single    0.050123\n",
            "36                  age    0.046158\n",
            "41                  day    0.045453\n",
            "1       job_blue-collar    0.034942\n",
            "37                pdays    0.034139\n",
            "4        job_management    0.032846\n",
            "40             campaign    0.028505\n",
            "28            month_mar    0.025155\n",
            "31            month_oct    0.024378\n",
            "9        job_technician    0.022918\n",
            "22            month_aug    0.021281\n",
            "5           job_retired    0.018875\n",
            "29            month_may    0.018724\n",
            "32            month_sep    0.017615\n",
            "26            month_jul    0.017533\n"
          ]
        }
      ]
    },
    {
      "cell_type": "code",
      "source": [
        "# Plot feature importances\n",
        "plt.figure(figsize=(12, 8))\n",
        "sns.barplot(x='Importance', y='Feature', data=top_features, palette='viridis')\n",
        "plt.title(\"Top 20 Feature Importances - Tuned Random Forest\")\n",
        "plt.xlabel(\"Importance Score\")\n",
        "plt.ylabel(\"Feature\")\n",
        "plt.tight_layout()\n",
        "plt.show()"
      ],
      "metadata": {
        "colab": {
          "base_uri": "https://localhost:8080/",
          "height": 760
        },
        "id": "LXxOWsj30v11",
        "outputId": "e2635b2f-ce2d-490e-b47e-3662954b2d31"
      },
      "execution_count": 37,
      "outputs": [
        {
          "output_type": "display_data",
          "data": {
            "text/plain": [
              "<Figure size 1200x800 with 1 Axes>"
            ],
            "image/png": "[encoded data removed]"
          },
          "metadata": {}
        }
      ]
    },
    {
      "cell_type": "code",
      "source": [
        "# Select top N features (e.g., top 20)\n",
        "selected_features = top_features['Feature'].tolist()\n",
        "\n",
        "# Reduce the training and testing data to selected features\n",
        "X_train_selected = X_train[selected_features]\n",
        "X_test_selected = X_test[selected_features]\n",
        "\n",
        "print(f\"\\nShape of training data after feature selection: {X_train_selected.shape}\")\n",
        "print(f\"Shape of testing data after feature selection: {X_test_selected.shape}\")"
      ],
      "metadata": {
        "colab": {
          "base_uri": "https://localhost:8080/"
        },
        "id": "6qsJWpFE02aa",
        "outputId": "0a1b775b-c026-41ed-8a1d-e7e57fada5d6"
      },
      "execution_count": 38,
      "outputs": [
        {
          "output_type": "stream",
          "name": "stdout",
          "text": [
            "\n",
            "Shape of training data after feature selection: (63875, 20)\n",
            "Shape of testing data after feature selection: (15969, 20)\n"
          ]
        }
      ]
    },
    {
      "cell_type": "code",
      "source": [
        "# Retrain Random Forest with Selected Features\n",
        "# Initialize the Random Forest with best parameters\n",
        "final_rf = RandomForestClassifier(\n",
        "    n_estimators=best_params_rf['n_estimators'],\n",
        "    max_depth=best_params_rf['max_depth'],\n",
        "    min_samples_split=best_params_rf['min_samples_split'],\n",
        "    min_samples_leaf=best_params_rf['min_samples_leaf'],\n",
        "    max_features=best_params_rf['max_features'],\n",
        "    bootstrap=best_params_rf['bootstrap'],\n",
        "    random_state=42\n",
        ")\n",
        "\n",
        "# Train the model\n",
        "final_rf.fit(X_train_selected, y_train)\n",
        "print(\"\\nRandom Forest model retrained with selected features.\")\n"
      ],
      "metadata": {
        "colab": {
          "base_uri": "https://localhost:8080/"
        },
        "id": "rHL4YKc-0-zs",
        "outputId": "b735793d-afe7-4618-c0df-54bf63ac7ca5"
      },
      "execution_count": 39,
      "outputs": [
        {
          "output_type": "stream",
          "name": "stdout",
          "text": [
            "\n",
            "Random Forest model retrained with selected features.\n"
          ]
        }
      ]
    },
    {
      "cell_type": "code",
      "source": [
        "# Make Predictions and Evaluate the Final Random Forest Model\n",
        "# Make predictions on the test set\n",
        "rf_final_pred_test = final_rf.predict(X_test_selected)\n",
        "\n",
        "# Make predictions on the training set\n",
        "rf_final_pred_train = final_rf.predict(X_train_selected)\n"
      ],
      "metadata": {
        "id": "E5QcjGBw1V2p"
      },
      "execution_count": 40,
      "outputs": []
    },
    {
      "cell_type": "code",
      "source": [
        "# Calculate evaluation metrics for test set\n",
        "rf_final_accuracy_test = accuracy_score(y_test, rf_final_pred_test)\n",
        "rf_final_recall_test = recall_score(y_test, rf_final_pred_test)\n",
        "rf_final_precision_test = precision_score(y_test, rf_final_pred_test)\n",
        "rf_final_f1_test = f1_score(y_test, rf_final_pred_test)\n",
        "rf_final_auc_test = roc_auc_score(y_test, final_rf.predict_proba(X_test_selected)[:,1])\n",
        "\n",
        "# Calculate evaluation metrics for training set\n",
        "rf_final_accuracy_train = accuracy_score(y_train, rf_final_pred_train)\n",
        "rf_final_recall_train = recall_score(y_train, rf_final_pred_train)\n",
        "rf_final_precision_train = precision_score(y_train, rf_final_pred_train)\n",
        "rf_final_f1_train = f1_score(y_train, rf_final_pred_train)\n",
        "rf_final_auc_train = roc_auc_score(y_train, final_rf.predict_proba(X_train_selected)[:,1])"
      ],
      "metadata": {
        "id": "85KkcpZp1kgw"
      },
      "execution_count": 41,
      "outputs": []
    },
    {
      "cell_type": "code",
      "source": [
        "# Display evaluation metrics for training set\n",
        "print(\"\\n=========================\")\n",
        "print(\"FINAL RANDOM FOREST TRAINING SET RESULTS\")\n",
        "print(\"=========================\")\n",
        "print(f\"Training Accuracy: {rf_final_accuracy_train:.4f}\")\n",
        "print(f\"Training Recall: {rf_final_recall_train:.4f}\")\n",
        "print(f\"Training Precision: {rf_final_precision_train:.4f}\")\n",
        "print(f\"Training F1-Score: {rf_final_f1_train:.4f}\")\n",
        "print(f\"Training AUC-ROC: {rf_final_auc_train:.4f}\")\n",
        "print(\"\\nTraining Confusion Matrix:\")\n",
        "print(confusion_matrix(y_train, rf_final_pred_train))\n",
        "print(\"\\nTraining Classification Report:\")\n",
        "print(classification_report(y_train, rf_final_pred_train))\n"
      ],
      "metadata": {
        "colab": {
          "base_uri": "https://localhost:8080/"
        },
        "id": "dFQGok5Y17TK",
        "outputId": "5a1ea75c-bd16-4351-8300-a478e55a22a9"
      },
      "execution_count": 43,
      "outputs": [
        {
          "output_type": "stream",
          "name": "stdout",
          "text": [
            "\n",
            "=========================\n",
            "FINAL RANDOM FOREST TRAINING SET RESULTS\n",
            "=========================\n",
            "Training Accuracy: 0.9508\n",
            "Training Recall: 0.9204\n",
            "Training Precision: 0.9801\n",
            "Training F1-Score: 0.9493\n",
            "Training AUC-ROC: 0.9951\n",
            "\n",
            "Training Confusion Matrix:\n",
            "[[31339   598]\n",
            " [ 2543 29395]]\n",
            "\n",
            "Training Classification Report:\n",
            "              precision    recall  f1-score   support\n",
            "\n",
            "           0       0.92      0.98      0.95     31937\n",
            "           1       0.98      0.92      0.95     31938\n",
            "\n",
            "    accuracy                           0.95     63875\n",
            "   macro avg       0.95      0.95      0.95     63875\n",
            "weighted avg       0.95      0.95      0.95     63875\n",
            "\n"
          ]
        }
      ]
    },
    {
      "cell_type": "code",
      "source": [
        "# Display evaluation metrics for test set\n",
        "print(\"\\n=========================\")\n",
        "print(\"FINAL RANDOM FOREST TEST SET RESULTS\")\n",
        "print(\"=========================\")\n",
        "print(f\"Test Accuracy: {rf_final_accuracy_test:.4f}\")\n",
        "print(f\"Test Recall: {rf_final_recall_test:.4f}\")\n",
        "print(f\"Test Precision: {rf_final_precision_test:.4f}\")\n",
        "print(f\"Test F1-Score: {rf_final_f1_test:.4f}\")\n",
        "print(f\"Test AUC-ROC: {rf_final_auc_test:.4f}\")\n",
        "print(\"\\nTest Confusion Matrix:\")\n",
        "print(confusion_matrix(y_test, rf_final_pred_test))\n",
        "print(\"\\nTest Classification Report:\")\n",
        "print(classification_report(y_test, rf_final_pred_test))\n"
      ],
      "metadata": {
        "colab": {
          "base_uri": "https://localhost:8080/"
        },
        "id": "L53pYK1c1shO",
        "outputId": "487c3c8b-59aa-48bc-fcf3-99a55e92c68f"
      },
      "execution_count": 42,
      "outputs": [
        {
          "output_type": "stream",
          "name": "stdout",
          "text": [
            "\n",
            "=========================\n",
            "FINAL RANDOM FOREST TEST SET RESULTS\n",
            "=========================\n",
            "Test Accuracy: 0.9026\n",
            "Test Recall: 0.8581\n",
            "Test Precision: 0.9418\n",
            "Test F1-Score: 0.8980\n",
            "Test AUC-ROC: 0.9604\n",
            "\n",
            "Test Confusion Matrix:\n",
            "[[7562  423]\n",
            " [1133 6851]]\n",
            "\n",
            "Test Classification Report:\n",
            "              precision    recall  f1-score   support\n",
            "\n",
            "           0       0.87      0.95      0.91      7985\n",
            "           1       0.94      0.86      0.90      7984\n",
            "\n",
            "    accuracy                           0.90     15969\n",
            "   macro avg       0.91      0.90      0.90     15969\n",
            "weighted avg       0.91      0.90      0.90     15969\n",
            "\n"
          ]
        }
      ]
    },
    {
      "cell_type": "code",
      "source": [
        "# Plot Feature Importance for Final Random Forest\n",
        "if hasattr(final_rf, 'feature_importances_'):\n",
        "    feature_importances_final = final_rf.feature_importances_\n",
        "    feature_names_final = X_train_selected.columns\n",
        "    importance_df_final = pd.DataFrame({\n",
        "        'Feature': feature_names_final,\n",
        "        'Importance': feature_importances_final\n",
        "    }).sort_values(by='Importance', ascending=False)\n",
        "\n",
        "    # Plotting the feature importances\n",
        "    plt.figure(figsize=(12, 8))\n",
        "    sns.barplot(x='Importance', y='Feature', data=importance_df_final, palette='viridis')\n",
        "    plt.title(\"Feature Importances - Final Random Forest\")\n",
        "    plt.xlabel(\"Importance Score\")\n",
        "    plt.ylabel(\"Feature\")\n",
        "    plt.tight_layout()\n",
        "    plt.show()\n",
        "else:\n",
        "    print(\"The final Random Forest model does not have 'feature_importances_' attribute.\")\n"
      ],
      "metadata": {
        "colab": {
          "base_uri": "https://localhost:8080/",
          "height": 760
        },
        "id": "26SWXMAK2A4N",
        "outputId": "7461a638-295a-4009-b8cb-80651a55343a"
      },
      "execution_count": 44,
      "outputs": [
        {
          "output_type": "display_data",
          "data": {
            "text/plain": [
              "<Figure size 1200x800 with 1 Axes>"
            ],
            "image/png": "[encoded data removed]"
          },
          "metadata": {}
        }
      ]
    },
    {
      "cell_type": "code",
      "source": [
        "# Build and Train a Neural Network Model\n",
        "# Define the Neural Network architecture\n",
        "nn_model = Sequential([\n",
        "    Dense(128, input_dim=X_train_selected.shape[1], activation='relu'),\n",
        "    Dropout(0.3),\n",
        "    Dense(64, activation='relu'),\n",
        "    Dropout(0.2),\n",
        "    Dense(32, activation='relu'),\n",
        "    Dropout(0.1),\n",
        "    Dense(1, activation='sigmoid')  # Binary classification\n",
        "])\n",
        "\n",
        "# Compile the model\n",
        "nn_model.compile(\n",
        "    optimizer='adam',\n",
        "    loss='binary_crossentropy',\n",
        "    metrics=['accuracy', tf.keras.metrics.AUC(name='auc')]\n",
        ")\n",
        "\n",
        "# Define Early Stopping to prevent overfitting\n",
        "early_stop = EarlyStopping(\n",
        "    monitor='val_loss',\n",
        "    patience=10,\n",
        "    restore_best_weights=True\n",
        ")\n",
        "\n",
        "# Train the Neural Network\n",
        "history = nn_model.fit(\n",
        "    X_train_selected, y_train,\n",
        "    epochs=100,\n",
        "    batch_size=256,\n",
        "    validation_data=(X_test_selected, y_test),\n",
        "    callbacks=[early_stop],\n",
        "    verbose=2\n",
        ")\n",
        "\n",
        "print(\"\\nNeural Network model has been trained.\")"
      ],
      "metadata": {
        "colab": {
          "base_uri": "https://localhost:8080/"
        },
        "id": "-vVFx2B22OQg",
        "outputId": "0adda0f4-ce0e-48dc-b0a5-9b83e550ba78"
      },
      "execution_count": 45,
      "outputs": [
        {
          "output_type": "stream",
          "name": "stdout",
          "text": [
            "Epoch 1/100\n",
            "250/250 - 8s - 33ms/step - accuracy: 0.7784 - auc: 0.8568 - loss: 0.4622 - val_accuracy: 0.8543 - val_auc: 0.9129 - val_loss: 0.3472\n",
            "Epoch 2/100\n",
            "250/250 - 1s - 6ms/step - accuracy: 0.8401 - auc: 0.9013 - loss: 0.3698 - val_accuracy: 0.8621 - val_auc: 0.9215 - val_loss: 0.3284\n",
            "Epoch 3/100\n",
            "250/250 - 1s - 5ms/step - accuracy: 0.8536 - auc: 0.9098 - loss: 0.3469 - val_accuracy: 0.8668 - val_auc: 0.9249 - val_loss: 0.3179\n",
            "Epoch 4/100\n",
            "250/250 - 1s - 5ms/step - accuracy: 0.8601 - auc: 0.9149 - loss: 0.3331 - val_accuracy: 0.8674 - val_auc: 0.9269 - val_loss: 0.3105\n",
            "Epoch 5/100\n",
            "250/250 - 1s - 5ms/step - accuracy: 0.8647 - auc: 0.9185 - loss: 0.3231 - val_accuracy: 0.8677 - val_auc: 0.9269 - val_loss: 0.3103\n",
            "Epoch 6/100\n",
            "250/250 - 1s - 4ms/step - accuracy: 0.8660 - auc: 0.9199 - loss: 0.3195 - val_accuracy: 0.8708 - val_auc: 0.9282 - val_loss: 0.3027\n",
            "Epoch 7/100\n",
            "250/250 - 2s - 7ms/step - accuracy: 0.8679 - auc: 0.9210 - loss: 0.3155 - val_accuracy: 0.8720 - val_auc: 0.9288 - val_loss: 0.3009\n",
            "Epoch 8/100\n",
            "250/250 - 2s - 9ms/step - accuracy: 0.8685 - auc: 0.9232 - loss: 0.3121 - val_accuracy: 0.8718 - val_auc: 0.9290 - val_loss: 0.3005\n",
            "Epoch 9/100\n",
            "250/250 - 1s - 4ms/step - accuracy: 0.8692 - auc: 0.9234 - loss: 0.3114 - val_accuracy: 0.8714 - val_auc: 0.9299 - val_loss: 0.3009\n",
            "Epoch 10/100\n",
            "250/250 - 1s - 4ms/step - accuracy: 0.8695 - auc: 0.9238 - loss: 0.3102 - val_accuracy: 0.8706 - val_auc: 0.9292 - val_loss: 0.3006\n",
            "Epoch 11/100\n",
            "250/250 - 2s - 7ms/step - accuracy: 0.8698 - auc: 0.9237 - loss: 0.3096 - val_accuracy: 0.8718 - val_auc: 0.9304 - val_loss: 0.3003\n",
            "Epoch 12/100\n",
            "250/250 - 2s - 7ms/step - accuracy: 0.8709 - auc: 0.9243 - loss: 0.3084 - val_accuracy: 0.8729 - val_auc: 0.9302 - val_loss: 0.2986\n",
            "Epoch 13/100\n",
            "250/250 - 2s - 7ms/step - accuracy: 0.8712 - auc: 0.9252 - loss: 0.3064 - val_accuracy: 0.8707 - val_auc: 0.9304 - val_loss: 0.2990\n",
            "Epoch 14/100\n",
            "250/250 - 3s - 11ms/step - accuracy: 0.8710 - auc: 0.9258 - loss: 0.3061 - val_accuracy: 0.8726 - val_auc: 0.9305 - val_loss: 0.2981\n",
            "Epoch 15/100\n",
            "250/250 - 3s - 11ms/step - accuracy: 0.8704 - auc: 0.9257 - loss: 0.3059 - val_accuracy: 0.8724 - val_auc: 0.9311 - val_loss: 0.2983\n",
            "Epoch 16/100\n",
            "250/250 - 4s - 14ms/step - accuracy: 0.8713 - auc: 0.9267 - loss: 0.3045 - val_accuracy: 0.8728 - val_auc: 0.9309 - val_loss: 0.2979\n",
            "Epoch 17/100\n",
            "250/250 - 1s - 5ms/step - accuracy: 0.8716 - auc: 0.9266 - loss: 0.3039 - val_accuracy: 0.8738 - val_auc: 0.9312 - val_loss: 0.2977\n",
            "Epoch 18/100\n",
            "250/250 - 1s - 5ms/step - accuracy: 0.8720 - auc: 0.9268 - loss: 0.3036 - val_accuracy: 0.8736 - val_auc: 0.9313 - val_loss: 0.2967\n",
            "Epoch 19/100\n",
            "250/250 - 1s - 5ms/step - accuracy: 0.8729 - auc: 0.9271 - loss: 0.3035 - val_accuracy: 0.8736 - val_auc: 0.9313 - val_loss: 0.2970\n",
            "Epoch 20/100\n",
            "250/250 - 1s - 5ms/step - accuracy: 0.8725 - auc: 0.9274 - loss: 0.3026 - val_accuracy: 0.8726 - val_auc: 0.9317 - val_loss: 0.2982\n",
            "Epoch 21/100\n",
            "250/250 - 1s - 5ms/step - accuracy: 0.8724 - auc: 0.9281 - loss: 0.3013 - val_accuracy: 0.8734 - val_auc: 0.9318 - val_loss: 0.2962\n",
            "Epoch 22/100\n",
            "250/250 - 2s - 6ms/step - accuracy: 0.8732 - auc: 0.9286 - loss: 0.3007 - val_accuracy: 0.8747 - val_auc: 0.9311 - val_loss: 0.2960\n",
            "Epoch 23/100\n",
            "250/250 - 3s - 12ms/step - accuracy: 0.8735 - auc: 0.9292 - loss: 0.2997 - val_accuracy: 0.8739 - val_auc: 0.9321 - val_loss: 0.2973\n",
            "Epoch 24/100\n",
            "250/250 - 1s - 4ms/step - accuracy: 0.8732 - auc: 0.9292 - loss: 0.2999 - val_accuracy: 0.8743 - val_auc: 0.9322 - val_loss: 0.2955\n",
            "Epoch 25/100\n",
            "250/250 - 2s - 6ms/step - accuracy: 0.8720 - auc: 0.9289 - loss: 0.3003 - val_accuracy: 0.8737 - val_auc: 0.9326 - val_loss: 0.2949\n",
            "Epoch 26/100\n",
            "250/250 - 2s - 6ms/step - accuracy: 0.8727 - auc: 0.9297 - loss: 0.2992 - val_accuracy: 0.8741 - val_auc: 0.9328 - val_loss: 0.2947\n",
            "Epoch 27/100\n",
            "250/250 - 2s - 7ms/step - accuracy: 0.8725 - auc: 0.9301 - loss: 0.2979 - val_accuracy: 0.8742 - val_auc: 0.9324 - val_loss: 0.2951\n",
            "Epoch 28/100\n",
            "250/250 - 3s - 10ms/step - accuracy: 0.8730 - auc: 0.9302 - loss: 0.2984 - val_accuracy: 0.8750 - val_auc: 0.9327 - val_loss: 0.2944\n",
            "Epoch 29/100\n",
            "250/250 - 2s - 9ms/step - accuracy: 0.8734 - auc: 0.9298 - loss: 0.2989 - val_accuracy: 0.8740 - val_auc: 0.9331 - val_loss: 0.2953\n",
            "Epoch 30/100\n",
            "250/250 - 2s - 8ms/step - accuracy: 0.8737 - auc: 0.9305 - loss: 0.2973 - val_accuracy: 0.8746 - val_auc: 0.9329 - val_loss: 0.2947\n",
            "Epoch 31/100\n",
            "250/250 - 2s - 7ms/step - accuracy: 0.8752 - auc: 0.9314 - loss: 0.2957 - val_accuracy: 0.8748 - val_auc: 0.9332 - val_loss: 0.2940\n",
            "Epoch 32/100\n",
            "250/250 - 1s - 5ms/step - accuracy: 0.8749 - auc: 0.9311 - loss: 0.2962 - val_accuracy: 0.8752 - val_auc: 0.9333 - val_loss: 0.2945\n",
            "Epoch 33/100\n",
            "250/250 - 1s - 5ms/step - accuracy: 0.8748 - auc: 0.9311 - loss: 0.2961 - val_accuracy: 0.8748 - val_auc: 0.9334 - val_loss: 0.2938\n",
            "Epoch 34/100\n",
            "250/250 - 1s - 5ms/step - accuracy: 0.8749 - auc: 0.9314 - loss: 0.2955 - val_accuracy: 0.8749 - val_auc: 0.9333 - val_loss: 0.2941\n",
            "Epoch 35/100\n",
            "250/250 - 1s - 5ms/step - accuracy: 0.8754 - auc: 0.9319 - loss: 0.2950 - val_accuracy: 0.8739 - val_auc: 0.9332 - val_loss: 0.2953\n",
            "Epoch 36/100\n",
            "250/250 - 1s - 5ms/step - accuracy: 0.8746 - auc: 0.9319 - loss: 0.2951 - val_accuracy: 0.8748 - val_auc: 0.9333 - val_loss: 0.2940\n",
            "Epoch 37/100\n",
            "250/250 - 1s - 5ms/step - accuracy: 0.8751 - auc: 0.9320 - loss: 0.2950 - val_accuracy: 0.8751 - val_auc: 0.9332 - val_loss: 0.2935\n",
            "Epoch 38/100\n",
            "250/250 - 2s - 6ms/step - accuracy: 0.8752 - auc: 0.9320 - loss: 0.2944 - val_accuracy: 0.8746 - val_auc: 0.9336 - val_loss: 0.2931\n",
            "Epoch 39/100\n",
            "250/250 - 2s - 8ms/step - accuracy: 0.8748 - auc: 0.9324 - loss: 0.2940 - val_accuracy: 0.8748 - val_auc: 0.9340 - val_loss: 0.2931\n",
            "Epoch 40/100\n",
            "250/250 - 2s - 6ms/step - accuracy: 0.8755 - auc: 0.9323 - loss: 0.2936 - val_accuracy: 0.8744 - val_auc: 0.9340 - val_loss: 0.2944\n",
            "Epoch 41/100\n",
            "250/250 - 2s - 8ms/step - accuracy: 0.8762 - auc: 0.9326 - loss: 0.2934 - val_accuracy: 0.8753 - val_auc: 0.9338 - val_loss: 0.2928\n",
            "Epoch 42/100\n",
            "250/250 - 1s - 5ms/step - accuracy: 0.8759 - auc: 0.9332 - loss: 0.2928 - val_accuracy: 0.8750 - val_auc: 0.9340 - val_loss: 0.2930\n",
            "Epoch 43/100\n",
            "250/250 - 1s - 5ms/step - accuracy: 0.8757 - auc: 0.9333 - loss: 0.2925 - val_accuracy: 0.8743 - val_auc: 0.9343 - val_loss: 0.2924\n",
            "Epoch 44/100\n",
            "250/250 - 1s - 5ms/step - accuracy: 0.8760 - auc: 0.9334 - loss: 0.2922 - val_accuracy: 0.8746 - val_auc: 0.9342 - val_loss: 0.2927\n",
            "Epoch 45/100\n",
            "250/250 - 1s - 5ms/step - accuracy: 0.8756 - auc: 0.9338 - loss: 0.2917 - val_accuracy: 0.8754 - val_auc: 0.9348 - val_loss: 0.2922\n",
            "Epoch 46/100\n",
            "250/250 - 1s - 5ms/step - accuracy: 0.8765 - auc: 0.9341 - loss: 0.2909 - val_accuracy: 0.8753 - val_auc: 0.9348 - val_loss: 0.2914\n",
            "Epoch 47/100\n",
            "250/250 - 1s - 6ms/step - accuracy: 0.8756 - auc: 0.9336 - loss: 0.2921 - val_accuracy: 0.8755 - val_auc: 0.9352 - val_loss: 0.2913\n",
            "Epoch 48/100\n",
            "250/250 - 2s - 8ms/step - accuracy: 0.8761 - auc: 0.9339 - loss: 0.2909 - val_accuracy: 0.8760 - val_auc: 0.9354 - val_loss: 0.2904\n",
            "Epoch 49/100\n",
            "250/250 - 2s - 6ms/step - accuracy: 0.8761 - auc: 0.9341 - loss: 0.2908 - val_accuracy: 0.8759 - val_auc: 0.9352 - val_loss: 0.2903\n",
            "Epoch 50/100\n",
            "250/250 - 2s - 8ms/step - accuracy: 0.8764 - auc: 0.9346 - loss: 0.2905 - val_accuracy: 0.8751 - val_auc: 0.9355 - val_loss: 0.2904\n",
            "Epoch 51/100\n",
            "250/250 - 2s - 6ms/step - accuracy: 0.8768 - auc: 0.9356 - loss: 0.2888 - val_accuracy: 0.8761 - val_auc: 0.9356 - val_loss: 0.2900\n",
            "Epoch 52/100\n",
            "250/250 - 2s - 9ms/step - accuracy: 0.8770 - auc: 0.9344 - loss: 0.2906 - val_accuracy: 0.8756 - val_auc: 0.9354 - val_loss: 0.2903\n",
            "Epoch 53/100\n",
            "250/250 - 1s - 5ms/step - accuracy: 0.8768 - auc: 0.9344 - loss: 0.2903 - val_accuracy: 0.8753 - val_auc: 0.9357 - val_loss: 0.2905\n",
            "Epoch 54/100\n",
            "250/250 - 1s - 5ms/step - accuracy: 0.8766 - auc: 0.9349 - loss: 0.2895 - val_accuracy: 0.8763 - val_auc: 0.9355 - val_loss: 0.2898\n",
            "Epoch 55/100\n",
            "250/250 - 1s - 4ms/step - accuracy: 0.8775 - auc: 0.9351 - loss: 0.2887 - val_accuracy: 0.8771 - val_auc: 0.9358 - val_loss: 0.2903\n",
            "Epoch 56/100\n",
            "250/250 - 2s - 8ms/step - accuracy: 0.8764 - auc: 0.9346 - loss: 0.2900 - val_accuracy: 0.8762 - val_auc: 0.9362 - val_loss: 0.2896\n",
            "Epoch 57/100\n",
            "250/250 - 2s - 7ms/step - accuracy: 0.8771 - auc: 0.9352 - loss: 0.2888 - val_accuracy: 0.8775 - val_auc: 0.9360 - val_loss: 0.2886\n",
            "Epoch 58/100\n",
            "250/250 - 1s - 5ms/step - accuracy: 0.8786 - auc: 0.9356 - loss: 0.2885 - val_accuracy: 0.8763 - val_auc: 0.9359 - val_loss: 0.2897\n",
            "Epoch 59/100\n",
            "250/250 - 1s - 5ms/step - accuracy: 0.8779 - auc: 0.9357 - loss: 0.2883 - val_accuracy: 0.8761 - val_auc: 0.9361 - val_loss: 0.2896\n",
            "Epoch 60/100\n",
            "250/250 - 1s - 5ms/step - accuracy: 0.8783 - auc: 0.9358 - loss: 0.2881 - val_accuracy: 0.8756 - val_auc: 0.9352 - val_loss: 0.2903\n",
            "Epoch 61/100\n",
            "250/250 - 1s - 5ms/step - accuracy: 0.8773 - auc: 0.9360 - loss: 0.2877 - val_accuracy: 0.8772 - val_auc: 0.9360 - val_loss: 0.2896\n",
            "Epoch 62/100\n",
            "250/250 - 1s - 5ms/step - accuracy: 0.8782 - auc: 0.9359 - loss: 0.2878 - val_accuracy: 0.8767 - val_auc: 0.9363 - val_loss: 0.2885\n",
            "Epoch 63/100\n",
            "250/250 - 1s - 5ms/step - accuracy: 0.8776 - auc: 0.9350 - loss: 0.2887 - val_accuracy: 0.8771 - val_auc: 0.9360 - val_loss: 0.2902\n",
            "Epoch 64/100\n",
            "250/250 - 1s - 5ms/step - accuracy: 0.8775 - auc: 0.9360 - loss: 0.2873 - val_accuracy: 0.8764 - val_auc: 0.9356 - val_loss: 0.2911\n",
            "Epoch 65/100\n",
            "250/250 - 2s - 8ms/step - accuracy: 0.8785 - auc: 0.9361 - loss: 0.2871 - val_accuracy: 0.8766 - val_auc: 0.9358 - val_loss: 0.2901\n",
            "Epoch 66/100\n",
            "250/250 - 2s - 9ms/step - accuracy: 0.8778 - auc: 0.9362 - loss: 0.2870 - val_accuracy: 0.8759 - val_auc: 0.9364 - val_loss: 0.2884\n",
            "Epoch 67/100\n",
            "250/250 - 2s - 9ms/step - accuracy: 0.8778 - auc: 0.9365 - loss: 0.2869 - val_accuracy: 0.8775 - val_auc: 0.9363 - val_loss: 0.2886\n",
            "Epoch 68/100\n",
            "250/250 - 1s - 5ms/step - accuracy: 0.8792 - auc: 0.9371 - loss: 0.2861 - val_accuracy: 0.8771 - val_auc: 0.9365 - val_loss: 0.2896\n",
            "Epoch 69/100\n",
            "250/250 - 1s - 5ms/step - accuracy: 0.8783 - auc: 0.9367 - loss: 0.2864 - val_accuracy: 0.8777 - val_auc: 0.9370 - val_loss: 0.2886\n",
            "Epoch 70/100\n",
            "250/250 - 1s - 5ms/step - accuracy: 0.8782 - auc: 0.9365 - loss: 0.2866 - val_accuracy: 0.8766 - val_auc: 0.9362 - val_loss: 0.2892\n",
            "Epoch 71/100\n",
            "250/250 - 1s - 5ms/step - accuracy: 0.8792 - auc: 0.9375 - loss: 0.2851 - val_accuracy: 0.8782 - val_auc: 0.9363 - val_loss: 0.2880\n",
            "Epoch 72/100\n",
            "250/250 - 1s - 5ms/step - accuracy: 0.8784 - auc: 0.9366 - loss: 0.2861 - val_accuracy: 0.8763 - val_auc: 0.9368 - val_loss: 0.2881\n",
            "Epoch 73/100\n",
            "250/250 - 1s - 5ms/step - accuracy: 0.8785 - auc: 0.9371 - loss: 0.2858 - val_accuracy: 0.8764 - val_auc: 0.9367 - val_loss: 0.2878\n",
            "Epoch 74/100\n",
            "250/250 - 2s - 8ms/step - accuracy: 0.8785 - auc: 0.9371 - loss: 0.2855 - val_accuracy: 0.8772 - val_auc: 0.9370 - val_loss: 0.2877\n",
            "Epoch 75/100\n",
            "250/250 - 2s - 7ms/step - accuracy: 0.8796 - auc: 0.9377 - loss: 0.2843 - val_accuracy: 0.8776 - val_auc: 0.9369 - val_loss: 0.2870\n",
            "Epoch 76/100\n",
            "250/250 - 1s - 5ms/step - accuracy: 0.8786 - auc: 0.9372 - loss: 0.2853 - val_accuracy: 0.8774 - val_auc: 0.9373 - val_loss: 0.2875\n",
            "Epoch 77/100\n",
            "250/250 - 1s - 5ms/step - accuracy: 0.8790 - auc: 0.9379 - loss: 0.2845 - val_accuracy: 0.8765 - val_auc: 0.9369 - val_loss: 0.2882\n",
            "Epoch 78/100\n",
            "250/250 - 1s - 5ms/step - accuracy: 0.8782 - auc: 0.9372 - loss: 0.2857 - val_accuracy: 0.8788 - val_auc: 0.9368 - val_loss: 0.2886\n",
            "Epoch 79/100\n",
            "250/250 - 1s - 5ms/step - accuracy: 0.8786 - auc: 0.9373 - loss: 0.2856 - val_accuracy: 0.8774 - val_auc: 0.9370 - val_loss: 0.2874\n",
            "Epoch 80/100\n",
            "250/250 - 1s - 5ms/step - accuracy: 0.8794 - auc: 0.9386 - loss: 0.2832 - val_accuracy: 0.8768 - val_auc: 0.9370 - val_loss: 0.2880\n",
            "Epoch 81/100\n",
            "250/250 - 1s - 5ms/step - accuracy: 0.8781 - auc: 0.9381 - loss: 0.2839 - val_accuracy: 0.8781 - val_auc: 0.9368 - val_loss: 0.2878\n",
            "Epoch 82/100\n",
            "250/250 - 1s - 5ms/step - accuracy: 0.8790 - auc: 0.9379 - loss: 0.2841 - val_accuracy: 0.8768 - val_auc: 0.9372 - val_loss: 0.2869\n",
            "Epoch 83/100\n",
            "250/250 - 2s - 7ms/step - accuracy: 0.8792 - auc: 0.9383 - loss: 0.2839 - val_accuracy: 0.8778 - val_auc: 0.9377 - val_loss: 0.2862\n",
            "Epoch 84/100\n",
            "250/250 - 2s - 9ms/step - accuracy: 0.8790 - auc: 0.9380 - loss: 0.2837 - val_accuracy: 0.8784 - val_auc: 0.9370 - val_loss: 0.2879\n",
            "Epoch 85/100\n",
            "250/250 - 1s - 4ms/step - accuracy: 0.8791 - auc: 0.9384 - loss: 0.2830 - val_accuracy: 0.8764 - val_auc: 0.9374 - val_loss: 0.2882\n",
            "Epoch 86/100\n",
            "250/250 - 1s - 5ms/step - accuracy: 0.8788 - auc: 0.9375 - loss: 0.2851 - val_accuracy: 0.8783 - val_auc: 0.9376 - val_loss: 0.2865\n",
            "Epoch 87/100\n",
            "250/250 - 1s - 5ms/step - accuracy: 0.8796 - auc: 0.9377 - loss: 0.2839 - val_accuracy: 0.8776 - val_auc: 0.9370 - val_loss: 0.2873\n",
            "Epoch 88/100\n",
            "250/250 - 1s - 4ms/step - accuracy: 0.8791 - auc: 0.9392 - loss: 0.2822 - val_accuracy: 0.8779 - val_auc: 0.9370 - val_loss: 0.2867\n",
            "Epoch 89/100\n",
            "250/250 - 1s - 5ms/step - accuracy: 0.8807 - auc: 0.9382 - loss: 0.2829 - val_accuracy: 0.8793 - val_auc: 0.9374 - val_loss: 0.2866\n",
            "Epoch 90/100\n",
            "250/250 - 1s - 5ms/step - accuracy: 0.8797 - auc: 0.9385 - loss: 0.2827 - val_accuracy: 0.8781 - val_auc: 0.9381 - val_loss: 0.2854\n",
            "Epoch 91/100\n",
            "250/250 - 1s - 5ms/step - accuracy: 0.8808 - auc: 0.9389 - loss: 0.2825 - val_accuracy: 0.8776 - val_auc: 0.9377 - val_loss: 0.2865\n",
            "Epoch 92/100\n",
            "250/250 - 1s - 4ms/step - accuracy: 0.8803 - auc: 0.9388 - loss: 0.2825 - val_accuracy: 0.8785 - val_auc: 0.9377 - val_loss: 0.2864\n",
            "Epoch 93/100\n",
            "250/250 - 2s - 8ms/step - accuracy: 0.8797 - auc: 0.9389 - loss: 0.2826 - val_accuracy: 0.8774 - val_auc: 0.9376 - val_loss: 0.2862\n",
            "Epoch 94/100\n",
            "250/250 - 2s - 7ms/step - accuracy: 0.8787 - auc: 0.9382 - loss: 0.2831 - val_accuracy: 0.8783 - val_auc: 0.9381 - val_loss: 0.2861\n",
            "Epoch 95/100\n",
            "250/250 - 1s - 5ms/step - accuracy: 0.8789 - auc: 0.9384 - loss: 0.2834 - val_accuracy: 0.8764 - val_auc: 0.9375 - val_loss: 0.2867\n",
            "Epoch 96/100\n",
            "250/250 - 1s - 5ms/step - accuracy: 0.8793 - auc: 0.9385 - loss: 0.2830 - val_accuracy: 0.8778 - val_auc: 0.9377 - val_loss: 0.2862\n",
            "Epoch 97/100\n",
            "250/250 - 1s - 4ms/step - accuracy: 0.8798 - auc: 0.9392 - loss: 0.2819 - val_accuracy: 0.8774 - val_auc: 0.9375 - val_loss: 0.2873\n",
            "Epoch 98/100\n",
            "250/250 - 1s - 5ms/step - accuracy: 0.8796 - auc: 0.9388 - loss: 0.2823 - val_accuracy: 0.8780 - val_auc: 0.9377 - val_loss: 0.2866\n",
            "Epoch 99/100\n",
            "250/250 - 1s - 4ms/step - accuracy: 0.8796 - auc: 0.9388 - loss: 0.2821 - val_accuracy: 0.8781 - val_auc: 0.9378 - val_loss: 0.2861\n",
            "Epoch 100/100\n",
            "250/250 - 1s - 5ms/step - accuracy: 0.8805 - auc: 0.9396 - loss: 0.2812 - val_accuracy: 0.8775 - val_auc: 0.9381 - val_loss: 0.2854\n",
            "\n",
            "Neural Network model has been trained.\n"
          ]
        }
      ]
    },
    {
      "cell_type": "code",
      "source": [
        "# Make Predictions and Evaluate the Neural Network Model\n",
        "# Make predictions on the test set\n",
        "nn_predictions_test_prob = nn_model.predict(X_test_selected).flatten()\n",
        "nn_predictions_test = (nn_predictions_test_prob >= 0.5).astype(int)\n",
        "\n",
        "# Make predictions on the training set\n",
        "nn_predictions_train_prob = nn_model.predict(X_train_selected).flatten()\n",
        "nn_predictions_train = (nn_predictions_train_prob >= 0.5).astype(int)\n",
        "\n",
        "# Calculate evaluation metrics for test set\n",
        "nn_accuracy_test = accuracy_score(y_test, nn_predictions_test)\n",
        "nn_recall_test = recall_score(y_test, nn_predictions_test)\n",
        "nn_precision_test = precision_score(y_test, nn_predictions_test)\n",
        "nn_f1_test = f1_score(y_test, nn_predictions_test)\n",
        "nn_auc_test = roc_auc_score(y_test, nn_predictions_test_prob)\n",
        "\n",
        "# Calculate evaluation metrics for training set\n",
        "nn_accuracy_train = accuracy_score(y_train, nn_predictions_train)\n",
        "nn_recall_train = recall_score(y_train, nn_predictions_train)\n",
        "nn_precision_train = precision_score(y_train, nn_predictions_train)\n",
        "nn_f1_train = f1_score(y_train, nn_predictions_train)\n",
        "nn_auc_train = roc_auc_score(y_train, nn_predictions_train_prob)\n"
      ],
      "metadata": {
        "colab": {
          "base_uri": "https://localhost:8080/"
        },
        "id": "IYR3OfJH2j9b",
        "outputId": "d37e88f8-1307-414d-aace-5bd024b6ee5c"
      },
      "execution_count": 46,
      "outputs": [
        {
          "output_type": "stream",
          "name": "stdout",
          "text": [
            "\u001b[1m500/500\u001b[0m \u001b[32m━━━━━━━━━━━━━━━━━━━━\u001b[0m\u001b[37m\u001b[0m \u001b[1m1s\u001b[0m 2ms/step\n",
            "\u001b[1m1997/1997\u001b[0m \u001b[32m━━━━━━━━━━━━━━━━━━━━\u001b[0m\u001b[37m\u001b[0m \u001b[1m5s\u001b[0m 2ms/step\n"
          ]
        }
      ]
    },
    {
      "cell_type": "code",
      "source": [
        "# Display evaluation metrics for training set\n",
        "print(\"\\n=========================\")\n",
        "print(\"NEURAL NETWORK TRAINING SET RESULTS\")\n",
        "print(\"=========================\")\n",
        "print(f\"Training Accuracy: {nn_accuracy_train:.4f}\")\n",
        "print(f\"Training Recall: {nn_recall_train:.4f}\")\n",
        "print(f\"Training Precision: {nn_precision_train:.4f}\")\n",
        "print(f\"Training F1-Score: {nn_f1_train:.4f}\")\n",
        "print(f\"Training AUC-ROC: {nn_auc_train:.4f}\")\n",
        "print(\"\\nTraining Confusion Matrix:\")\n",
        "print(confusion_matrix(y_train, nn_predictions_train))\n",
        "print(\"\\nTraining Classification Report:\")\n",
        "print(classification_report(y_train, nn_predictions_train))"
      ],
      "metadata": {
        "colab": {
          "base_uri": "https://localhost:8080/"
        },
        "id": "kzdcxL7z3I5D",
        "outputId": "f2c04d49-5a58-4afd-ddab-e86c5ead2763"
      },
      "execution_count": 47,
      "outputs": [
        {
          "output_type": "stream",
          "name": "stdout",
          "text": [
            "\n",
            "=========================\n",
            "NEURAL NETWORK TRAINING SET RESULTS\n",
            "=========================\n",
            "Training Accuracy: 0.8878\n",
            "Training Recall: 0.8054\n",
            "Training Precision: 0.9644\n",
            "Training F1-Score: 0.8777\n",
            "Training AUC-ROC: 0.9500\n",
            "\n",
            "Training Confusion Matrix:\n",
            "[[30987   950]\n",
            " [ 6216 25722]]\n",
            "\n",
            "Training Classification Report:\n",
            "              precision    recall  f1-score   support\n",
            "\n",
            "           0       0.83      0.97      0.90     31937\n",
            "           1       0.96      0.81      0.88     31938\n",
            "\n",
            "    accuracy                           0.89     63875\n",
            "   macro avg       0.90      0.89      0.89     63875\n",
            "weighted avg       0.90      0.89      0.89     63875\n",
            "\n"
          ]
        }
      ]
    },
    {
      "cell_type": "code",
      "source": [
        "# Display evaluation metrics for test set\n",
        "print(\"\\n=========================\")\n",
        "print(\"NEURAL NETWORK TEST SET RESULTS\")\n",
        "print(\"=========================\")\n",
        "print(f\"Test Accuracy: {nn_accuracy_test:.4f}\")\n",
        "print(f\"Test Recall: {nn_recall_test:.4f}\")\n",
        "print(f\"Test Precision: {nn_precision_test:.4f}\")\n",
        "print(f\"Test F1-Score: {nn_f1_test:.4f}\")\n",
        "print(f\"Test AUC-ROC: {nn_auc_test:.4f}\")\n",
        "print(\"\\nTest Confusion Matrix:\")\n",
        "print(confusion_matrix(y_test, nn_predictions_test))\n",
        "print(\"\\nTest Classification Report:\")\n",
        "print(classification_report(y_test, nn_predictions_test))"
      ],
      "metadata": {
        "colab": {
          "base_uri": "https://localhost:8080/"
        },
        "id": "spZV4SIS3R1z",
        "outputId": "d0af48eb-c9ae-4470-e35a-db5e223d9128"
      },
      "execution_count": 48,
      "outputs": [
        {
          "output_type": "stream",
          "name": "stdout",
          "text": [
            "\n",
            "=========================\n",
            "NEURAL NETWORK TEST SET RESULTS\n",
            "=========================\n",
            "Test Accuracy: 0.8775\n",
            "Test Recall: 0.7962\n",
            "Test Precision: 0.9508\n",
            "Test F1-Score: 0.8667\n",
            "Test AUC-ROC: 0.9381\n",
            "\n",
            "Test Confusion Matrix:\n",
            "[[7656  329]\n",
            " [1627 6357]]\n",
            "\n",
            "Test Classification Report:\n",
            "              precision    recall  f1-score   support\n",
            "\n",
            "           0       0.82      0.96      0.89      7985\n",
            "           1       0.95      0.80      0.87      7984\n",
            "\n",
            "    accuracy                           0.88     15969\n",
            "   macro avg       0.89      0.88      0.88     15969\n",
            "weighted avg       0.89      0.88      0.88     15969\n",
            "\n"
          ]
        }
      ]
    },
    {
      "cell_type": "code",
      "source": [],
      "metadata": {
        "id": "6fN3MVgU3hqI"
      },
      "execution_count": null,
      "outputs": []
    }
  ]
}